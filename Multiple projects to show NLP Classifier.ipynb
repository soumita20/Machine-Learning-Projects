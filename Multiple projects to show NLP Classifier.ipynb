{
 "cells": [
  {
   "cell_type": "markdown",
   "metadata": {
    "id": "KaqIU2sVCoUR"
   },
   "source": [
    "# Project 1"
   ]
  },
  {
   "cell_type": "markdown",
   "metadata": {
    "id": "VRIEBvEfKeMR"
   },
   "source": [
    "DOMAIN: Digital content management\n",
    "\n",
    "CONTEXT: Classification is probably the most popular task that you would deal with in real life. Text in the form of blogs, posts, articles, etc. is written every second. It is a challenge to predict the information about the writer without knowing about him/her. We are going to create a classifier that predicts multiple features of the author of a given text. We have designed it as a Multi label classification problem.\n",
    "\n",
    "DATA DESCRIPTION: Over 600,000 posts from more than 19 thousand bloggers The Blog Authorship Corpus consists of the collected\n",
    "posts of 19,320 bloggers gathered from blogger.com in August 2004. The corpus incorporates a total of 681,288 posts and over 140 million words - or approximately 35 posts and 7250 words per person. Each blog is presented as a separate file, the name of which indicates a blogger id# and the blogger’s self-provided gender, age, industry, and astrological sign. (All are labelled for gender and age but for many,\n",
    "industry and/or sign is marked as unknown.) All bloggers included in the corpus fall into one of three age groups:\n",
    "• 8240 \"10s\" blogs (ages 13-17),\n",
    "• 8086 \"20s\" blogs(ages 23-27) and\n",
    "• 2994 \"30s\" blogs (ages 33-47)\n",
    "For each age group, there is an equal number of male and female bloggers.\n",
    "Each blog in the corpus includes at least 200 occurrences of common English words. All formatting has been stripped with two exceptions.\n",
    "Individual posts within a single blogger are separated by the date of the following post and links within a post are denoted by the label url\n",
    "link. \n",
    "\n",
    "Link to dataset: https://www.kaggle.com/rtatman/blog-authorship-corpus\n",
    "\n",
    "PROJECT OBJECTIVE: The need is to build a NLP classifier which can use input text parameters to determine the label/s of the blog.\n",
    "\n",
    "Steps and tasks:\n",
    "1. Import and analyse the data set.\n",
    "2. Perform data pre-processing on the data:\n",
    "• Data cleansing by removing unwanted characters, spaces, stop words etc. Convert text to lowercase.\n",
    "• Target/label merger and transformation\n",
    "• Train and test split\n",
    "• Vectorisation, etc.\n",
    "3. Design, train, tune and test the best text classifier.\n",
    "4. Display and explain detail the classification report\n",
    "5. Print the true vs predicted labels for any 5 entries from the dataset.\n",
    "\n",
    "Hint: The aim here Is to import the text, process it such a way that it can be taken as an inout to the ML/NN classifiers. Be analytical and experimental here in trying new\n",
    "approaches to design the best model."
   ]
  },
  {
   "cell_type": "code",
   "execution_count": 237,
   "metadata": {
    "colab": {
     "base_uri": "https://localhost:8080/",
     "height": 35
    },
    "executionInfo": {
     "elapsed": 1591,
     "status": "ok",
     "timestamp": 1620581941422,
     "user": {
      "displayName": "Soumita Chowdhury",
      "photoUrl": "https://lh3.googleusercontent.com/a-/AOh14GhObdw1u3uxDno8PBnDrmkvcHccSnXmpjy2A7PQ=s64",
      "userId": "09157550983538090427"
     },
     "user_tz": -330
    },
    "id": "87MQxhsHJwsg",
    "outputId": "aeb82bb1-0e50-482e-eaf9-ba0225f71979"
   },
   "outputs": [
    {
     "data": {
      "application/vnd.google.colaboratory.intrinsic+json": {
       "type": "string"
      },
      "text/plain": [
       "'2.4.1'"
      ]
     },
     "execution_count": 237,
     "metadata": {
      "tags": []
     },
     "output_type": "execute_result"
    }
   ],
   "source": [
    "#Set tensorflow version\n",
    "%tensorflow_version 2.x\n",
    "import tensorflow\n",
    "tensorflow.__version__"
   ]
  },
  {
   "cell_type": "code",
   "execution_count": 238,
   "metadata": {
    "executionInfo": {
     "elapsed": 2339,
     "status": "ok",
     "timestamp": 1620581942181,
     "user": {
      "displayName": "Soumita Chowdhury",
      "photoUrl": "https://lh3.googleusercontent.com/a-/AOh14GhObdw1u3uxDno8PBnDrmkvcHccSnXmpjy2A7PQ=s64",
      "userId": "09157550983538090427"
     },
     "user_tz": -330
    },
    "id": "Xyuhc06AHBRg"
   },
   "outputs": [],
   "source": [
    "# Initialize the random number generator\n",
    "import random\n",
    "random.seed(0)\n",
    "\n",
    "# Ignore the warnings\n",
    "import warnings\n",
    "warnings.filterwarnings(\"ignore\")"
   ]
  },
  {
   "cell_type": "code",
   "execution_count": 239,
   "metadata": {
    "executionInfo": {
     "elapsed": 2334,
     "status": "ok",
     "timestamp": 1620581942182,
     "user": {
      "displayName": "Soumita Chowdhury",
      "photoUrl": "https://lh3.googleusercontent.com/a-/AOh14GhObdw1u3uxDno8PBnDrmkvcHccSnXmpjy2A7PQ=s64",
      "userId": "09157550983538090427"
     },
     "user_tz": -330
    },
    "id": "t23cFHI4HEei"
   },
   "outputs": [],
   "source": [
    "import pandas as pd\n",
    "import matplotlib.pyplot as plt # data visualization library\n",
    "%matplotlib inline\n",
    "import seaborn as sns"
   ]
  },
  {
   "cell_type": "code",
   "execution_count": 240,
   "metadata": {
    "executionInfo": {
     "elapsed": 2329,
     "status": "ok",
     "timestamp": 1620581942183,
     "user": {
      "displayName": "Soumita Chowdhury",
      "photoUrl": "https://lh3.googleusercontent.com/a-/AOh14GhObdw1u3uxDno8PBnDrmkvcHccSnXmpjy2A7PQ=s64",
      "userId": "09157550983538090427"
     },
     "user_tz": -330
    },
    "id": "P_GtTUyEhjdz"
   },
   "outputs": [],
   "source": [
    "import re\n",
    "import nltk\n",
    "\n",
    "from sklearn.model_selection import train_test_split\n",
    "from sklearn.feature_extraction.text import CountVectorizer\n",
    "from sklearn.linear_model import LogisticRegression\n",
    "from sklearn.naive_bayes import MultinomialNB\n",
    "from sklearn import metrics\n",
    "from sklearn.metrics import accuracy_score, f1_score, average_precision_score, recall_score\n",
    "\n",
    "\n",
    "from nltk.tokenize import word_tokenize\n",
    "from string import punctuation\n",
    "from nltk.corpus import stopwords\n",
    "from nltk.stem import WordNetLemmatizer #word stemmer class\n",
    "lemma = WordNetLemmatizer()\n",
    "from wordcloud import WordCloud, STOPWORDS\n",
    "from nltk import FreqDist"
   ]
  },
  {
   "cell_type": "code",
   "execution_count": 241,
   "metadata": {
    "colab": {
     "base_uri": "https://localhost:8080/"
    },
    "executionInfo": {
     "elapsed": 2324,
     "status": "ok",
     "timestamp": 1620581942184,
     "user": {
      "displayName": "Soumita Chowdhury",
      "photoUrl": "https://lh3.googleusercontent.com/a-/AOh14GhObdw1u3uxDno8PBnDrmkvcHccSnXmpjy2A7PQ=s64",
      "userId": "09157550983538090427"
     },
     "user_tz": -330
    },
    "id": "K6Xoy4oNmAGu",
    "outputId": "78def495-33de-4122-88df-ab1e415c4eff"
   },
   "outputs": [
    {
     "name": "stdout",
     "output_type": "stream",
     "text": [
      "Drive already mounted at /content/gdrive; to attempt to forcibly remount, call drive.mount(\"/content/gdrive\", force_remount=True).\n"
     ]
    }
   ],
   "source": [
    "#Let us load the data\n",
    "from google.colab import drive\n",
    "drive.mount(\"/content/gdrive\")"
   ]
  },
  {
   "cell_type": "code",
   "execution_count": 242,
   "metadata": {
    "colab": {
     "base_uri": "https://localhost:8080/",
     "height": 352
    },
    "executionInfo": {
     "elapsed": 25247,
     "status": "ok",
     "timestamp": 1620581965116,
     "user": {
      "displayName": "Soumita Chowdhury",
      "photoUrl": "https://lh3.googleusercontent.com/a-/AOh14GhObdw1u3uxDno8PBnDrmkvcHccSnXmpjy2A7PQ=s64",
      "userId": "09157550983538090427"
     },
     "user_tz": -330
    },
    "id": "BheDh-dViwYs",
    "outputId": "4dcb1d53-9383-4a6e-c173-59af1d277303"
   },
   "outputs": [
    {
     "data": {
      "text/html": [
       "<div>\n",
       "<style scoped>\n",
       "    .dataframe tbody tr th:only-of-type {\n",
       "        vertical-align: middle;\n",
       "    }\n",
       "\n",
       "    .dataframe tbody tr th {\n",
       "        vertical-align: top;\n",
       "    }\n",
       "\n",
       "    .dataframe thead th {\n",
       "        text-align: right;\n",
       "    }\n",
       "</style>\n",
       "<table border=\"1\" class=\"dataframe\">\n",
       "  <thead>\n",
       "    <tr style=\"text-align: right;\">\n",
       "      <th></th>\n",
       "      <th>id</th>\n",
       "      <th>gender</th>\n",
       "      <th>age</th>\n",
       "      <th>topic</th>\n",
       "      <th>sign</th>\n",
       "      <th>date</th>\n",
       "      <th>text</th>\n",
       "    </tr>\n",
       "  </thead>\n",
       "  <tbody>\n",
       "    <tr>\n",
       "      <th>0</th>\n",
       "      <td>2059027</td>\n",
       "      <td>male</td>\n",
       "      <td>15</td>\n",
       "      <td>Student</td>\n",
       "      <td>Leo</td>\n",
       "      <td>14,May,2004</td>\n",
       "      <td>Info has been found (+/- 100 pages,...</td>\n",
       "    </tr>\n",
       "    <tr>\n",
       "      <th>1</th>\n",
       "      <td>2059027</td>\n",
       "      <td>male</td>\n",
       "      <td>15</td>\n",
       "      <td>Student</td>\n",
       "      <td>Leo</td>\n",
       "      <td>13,May,2004</td>\n",
       "      <td>These are the team members:   Drewe...</td>\n",
       "    </tr>\n",
       "    <tr>\n",
       "      <th>2</th>\n",
       "      <td>2059027</td>\n",
       "      <td>male</td>\n",
       "      <td>15</td>\n",
       "      <td>Student</td>\n",
       "      <td>Leo</td>\n",
       "      <td>12,May,2004</td>\n",
       "      <td>In het kader van kernfusie op aarde...</td>\n",
       "    </tr>\n",
       "    <tr>\n",
       "      <th>3</th>\n",
       "      <td>2059027</td>\n",
       "      <td>male</td>\n",
       "      <td>15</td>\n",
       "      <td>Student</td>\n",
       "      <td>Leo</td>\n",
       "      <td>12,May,2004</td>\n",
       "      <td>testing!!!  testing!!!</td>\n",
       "    </tr>\n",
       "    <tr>\n",
       "      <th>4</th>\n",
       "      <td>3581210</td>\n",
       "      <td>male</td>\n",
       "      <td>33</td>\n",
       "      <td>InvestmentBanking</td>\n",
       "      <td>Aquarius</td>\n",
       "      <td>11,June,2004</td>\n",
       "      <td>Thanks to Yahoo!'s Toolbar I can ...</td>\n",
       "    </tr>\n",
       "    <tr>\n",
       "      <th>5</th>\n",
       "      <td>3581210</td>\n",
       "      <td>male</td>\n",
       "      <td>33</td>\n",
       "      <td>InvestmentBanking</td>\n",
       "      <td>Aquarius</td>\n",
       "      <td>10,June,2004</td>\n",
       "      <td>I had an interesting conversation...</td>\n",
       "    </tr>\n",
       "    <tr>\n",
       "      <th>6</th>\n",
       "      <td>3581210</td>\n",
       "      <td>male</td>\n",
       "      <td>33</td>\n",
       "      <td>InvestmentBanking</td>\n",
       "      <td>Aquarius</td>\n",
       "      <td>10,June,2004</td>\n",
       "      <td>Somehow Coca-Cola has a way of su...</td>\n",
       "    </tr>\n",
       "    <tr>\n",
       "      <th>7</th>\n",
       "      <td>3581210</td>\n",
       "      <td>male</td>\n",
       "      <td>33</td>\n",
       "      <td>InvestmentBanking</td>\n",
       "      <td>Aquarius</td>\n",
       "      <td>10,June,2004</td>\n",
       "      <td>If anything, Korea is a country o...</td>\n",
       "    </tr>\n",
       "    <tr>\n",
       "      <th>8</th>\n",
       "      <td>3581210</td>\n",
       "      <td>male</td>\n",
       "      <td>33</td>\n",
       "      <td>InvestmentBanking</td>\n",
       "      <td>Aquarius</td>\n",
       "      <td>10,June,2004</td>\n",
       "      <td>Take a read of this news article ...</td>\n",
       "    </tr>\n",
       "    <tr>\n",
       "      <th>9</th>\n",
       "      <td>3581210</td>\n",
       "      <td>male</td>\n",
       "      <td>33</td>\n",
       "      <td>InvestmentBanking</td>\n",
       "      <td>Aquarius</td>\n",
       "      <td>09,June,2004</td>\n",
       "      <td>I surf the English news sites a l...</td>\n",
       "    </tr>\n",
       "  </tbody>\n",
       "</table>\n",
       "</div>"
      ],
      "text/plain": [
       "        id  ...                                               text\n",
       "0  2059027  ...             Info has been found (+/- 100 pages,...\n",
       "1  2059027  ...             These are the team members:   Drewe...\n",
       "2  2059027  ...             In het kader van kernfusie op aarde...\n",
       "3  2059027  ...                   testing!!!  testing!!!          \n",
       "4  3581210  ...               Thanks to Yahoo!'s Toolbar I can ...\n",
       "5  3581210  ...               I had an interesting conversation...\n",
       "6  3581210  ...               Somehow Coca-Cola has a way of su...\n",
       "7  3581210  ...               If anything, Korea is a country o...\n",
       "8  3581210  ...               Take a read of this news article ...\n",
       "9  3581210  ...               I surf the English news sites a l...\n",
       "\n",
       "[10 rows x 7 columns]"
      ]
     },
     "execution_count": 242,
     "metadata": {
      "tags": []
     },
     "output_type": "execute_result"
    }
   ],
   "source": [
    "#Import the data and analyse the dataset\n",
    "blog_data = pd.read_csv('/content/gdrive/MyDrive/Colab Notebooks/NLP/blogtext.csv')\n",
    "blog_data.head(10)"
   ]
  },
  {
   "cell_type": "code",
   "execution_count": 243,
   "metadata": {
    "colab": {
     "base_uri": "https://localhost:8080/",
     "height": 109
    },
    "executionInfo": {
     "elapsed": 25240,
     "status": "ok",
     "timestamp": 1620581965118,
     "user": {
      "displayName": "Soumita Chowdhury",
      "photoUrl": "https://lh3.googleusercontent.com/a-/AOh14GhObdw1u3uxDno8PBnDrmkvcHccSnXmpjy2A7PQ=s64",
      "userId": "09157550983538090427"
     },
     "user_tz": -330
    },
    "id": "qZjCDPJgrPlo",
    "outputId": "b381a868-03be-4753-ebd4-6ecbf5b6bf22"
   },
   "outputs": [
    {
     "data": {
      "text/html": [
       "<div>\n",
       "<style scoped>\n",
       "    .dataframe tbody tr th:only-of-type {\n",
       "        vertical-align: middle;\n",
       "    }\n",
       "\n",
       "    .dataframe tbody tr th {\n",
       "        vertical-align: top;\n",
       "    }\n",
       "\n",
       "    .dataframe thead th {\n",
       "        text-align: right;\n",
       "    }\n",
       "</style>\n",
       "<table border=\"1\" class=\"dataframe\">\n",
       "  <thead>\n",
       "    <tr style=\"text-align: right;\">\n",
       "      <th></th>\n",
       "      <th>count</th>\n",
       "      <th>mean</th>\n",
       "      <th>std</th>\n",
       "      <th>min</th>\n",
       "      <th>25%</th>\n",
       "      <th>50%</th>\n",
       "      <th>75%</th>\n",
       "      <th>max</th>\n",
       "    </tr>\n",
       "  </thead>\n",
       "  <tbody>\n",
       "    <tr>\n",
       "      <th>id</th>\n",
       "      <td>681284.0</td>\n",
       "      <td>2.397802e+06</td>\n",
       "      <td>1.247723e+06</td>\n",
       "      <td>5114.0</td>\n",
       "      <td>1239610.0</td>\n",
       "      <td>2607577.0</td>\n",
       "      <td>3525660.0</td>\n",
       "      <td>4337650.0</td>\n",
       "    </tr>\n",
       "    <tr>\n",
       "      <th>age</th>\n",
       "      <td>681284.0</td>\n",
       "      <td>2.393233e+01</td>\n",
       "      <td>7.786009e+00</td>\n",
       "      <td>13.0</td>\n",
       "      <td>17.0</td>\n",
       "      <td>24.0</td>\n",
       "      <td>26.0</td>\n",
       "      <td>48.0</td>\n",
       "    </tr>\n",
       "  </tbody>\n",
       "</table>\n",
       "</div>"
      ],
      "text/plain": [
       "        count          mean           std  ...        50%        75%        max\n",
       "id   681284.0  2.397802e+06  1.247723e+06  ...  2607577.0  3525660.0  4337650.0\n",
       "age  681284.0  2.393233e+01  7.786009e+00  ...       24.0       26.0       48.0\n",
       "\n",
       "[2 rows x 8 columns]"
      ]
     },
     "execution_count": 243,
     "metadata": {
      "tags": []
     },
     "output_type": "execute_result"
    }
   ],
   "source": [
    "blog_data.describe().T"
   ]
  },
  {
   "cell_type": "code",
   "execution_count": 244,
   "metadata": {
    "colab": {
     "base_uri": "https://localhost:8080/"
    },
    "executionInfo": {
     "elapsed": 25234,
     "status": "ok",
     "timestamp": 1620581965118,
     "user": {
      "displayName": "Soumita Chowdhury",
      "photoUrl": "https://lh3.googleusercontent.com/a-/AOh14GhObdw1u3uxDno8PBnDrmkvcHccSnXmpjy2A7PQ=s64",
      "userId": "09157550983538090427"
     },
     "user_tz": -330
    },
    "id": "rvJI1iv4rFYy",
    "outputId": "375a264b-7f02-4a6b-beff-8259398d97f3"
   },
   "outputs": [
    {
     "data": {
      "text/plain": [
       "(681284, 7)"
      ]
     },
     "execution_count": 244,
     "metadata": {
      "tags": []
     },
     "output_type": "execute_result"
    }
   ],
   "source": [
    "#Analyze the dataset\n",
    "blog_data.shape"
   ]
  },
  {
   "cell_type": "markdown",
   "metadata": {
    "id": "kuxFVCdxrKW7"
   },
   "source": [
    "We can see that the dataset has 681284 rows and 7 columns"
   ]
  },
  {
   "cell_type": "markdown",
   "metadata": {
    "id": "eIb7WRTJvmTT"
   },
   "source": [
    "Since the dataset is huge we will perform analysis on a subset of the entire data, say 10000 records."
   ]
  },
  {
   "cell_type": "code",
   "execution_count": 245,
   "metadata": {
    "executionInfo": {
     "elapsed": 25230,
     "status": "ok",
     "timestamp": 1620581965119,
     "user": {
      "displayName": "Soumita Chowdhury",
      "photoUrl": "https://lh3.googleusercontent.com/a-/AOh14GhObdw1u3uxDno8PBnDrmkvcHccSnXmpjy2A7PQ=s64",
      "userId": "09157550983538090427"
     },
     "user_tz": -330
    },
    "id": "OyyMW-gRvj_c"
   },
   "outputs": [],
   "source": [
    "blog_data_sample=blog_data.head(10000)"
   ]
  },
  {
   "cell_type": "code",
   "execution_count": 246,
   "metadata": {
    "colab": {
     "base_uri": "https://localhost:8080/"
    },
    "executionInfo": {
     "elapsed": 25225,
     "status": "ok",
     "timestamp": 1620581965120,
     "user": {
      "displayName": "Soumita Chowdhury",
      "photoUrl": "https://lh3.googleusercontent.com/a-/AOh14GhObdw1u3uxDno8PBnDrmkvcHccSnXmpjy2A7PQ=s64",
      "userId": "09157550983538090427"
     },
     "user_tz": -330
    },
    "id": "ENfvj7a-4D75",
    "outputId": "a665aa98-d72e-4109-ed95-937dae61a388"
   },
   "outputs": [
    {
     "data": {
      "text/plain": [
       "id        False\n",
       "gender    False\n",
       "age       False\n",
       "topic     False\n",
       "sign      False\n",
       "date      False\n",
       "text      False\n",
       "dtype: bool"
      ]
     },
     "execution_count": 246,
     "metadata": {
      "tags": []
     },
     "output_type": "execute_result"
    }
   ],
   "source": [
    "blog_data.isna().any()"
   ]
  },
  {
   "cell_type": "markdown",
   "metadata": {
    "id": "86FsPG14wvlg"
   },
   "source": [
    "Step 2 - Perform data pre-processing on the data: • Data cleansing by removing unwanted characters, spaces, stop words etc. Convert text to lowercase. • Target/label merger and transformation • Train and test split • Vectorisation, etc."
   ]
  },
  {
   "cell_type": "markdown",
   "metadata": {
    "id": "mdWzP6Wr4Hl3"
   },
   "source": [
    "We can see that there is no missing values in the dataset"
   ]
  },
  {
   "cell_type": "code",
   "execution_count": 247,
   "metadata": {
    "colab": {
     "base_uri": "https://localhost:8080/"
    },
    "executionInfo": {
     "elapsed": 25220,
     "status": "ok",
     "timestamp": 1620581965120,
     "user": {
      "displayName": "Soumita Chowdhury",
      "photoUrl": "https://lh3.googleusercontent.com/a-/AOh14GhObdw1u3uxDno8PBnDrmkvcHccSnXmpjy2A7PQ=s64",
      "userId": "09157550983538090427"
     },
     "user_tz": -330
    },
    "id": "Pijh8KYJ4NmK",
    "outputId": "2708d910-c676-443a-b911-2e41ec6a4863"
   },
   "outputs": [
    {
     "name": "stdout",
     "output_type": "stream",
     "text": [
      "<class 'pandas.core.frame.DataFrame'>\n",
      "RangeIndex: 10000 entries, 0 to 9999\n",
      "Data columns (total 7 columns):\n",
      " #   Column  Non-Null Count  Dtype \n",
      "---  ------  --------------  ----- \n",
      " 0   id      10000 non-null  int64 \n",
      " 1   gender  10000 non-null  object\n",
      " 2   age     10000 non-null  int64 \n",
      " 3   topic   10000 non-null  object\n",
      " 4   sign    10000 non-null  object\n",
      " 5   date    10000 non-null  object\n",
      " 6   text    10000 non-null  object\n",
      "dtypes: int64(2), object(5)\n",
      "memory usage: 547.0+ KB\n"
     ]
    }
   ],
   "source": [
    "blog_data_sample.info()"
   ]
  },
  {
   "cell_type": "markdown",
   "metadata": {
    "id": "xIbQFBkR4UQF"
   },
   "source": [
    "Let us drop id and date columns from the dataset as they do not add much value"
   ]
  },
  {
   "cell_type": "code",
   "execution_count": 248,
   "metadata": {
    "executionInfo": {
     "elapsed": 25216,
     "status": "ok",
     "timestamp": 1620581965121,
     "user": {
      "displayName": "Soumita Chowdhury",
      "photoUrl": "https://lh3.googleusercontent.com/a-/AOh14GhObdw1u3uxDno8PBnDrmkvcHccSnXmpjy2A7PQ=s64",
      "userId": "09157550983538090427"
     },
     "user_tz": -330
    },
    "id": "QW2PPvml4ZJI"
   },
   "outputs": [],
   "source": [
    "blog_data_sample.drop(['id','date'], axis=1, inplace=True)"
   ]
  },
  {
   "cell_type": "code",
   "execution_count": 249,
   "metadata": {
    "colab": {
     "base_uri": "https://localhost:8080/",
     "height": 200
    },
    "executionInfo": {
     "elapsed": 25210,
     "status": "ok",
     "timestamp": 1620581965121,
     "user": {
      "displayName": "Soumita Chowdhury",
      "photoUrl": "https://lh3.googleusercontent.com/a-/AOh14GhObdw1u3uxDno8PBnDrmkvcHccSnXmpjy2A7PQ=s64",
      "userId": "09157550983538090427"
     },
     "user_tz": -330
    },
    "id": "Gr37nUuE4d3O",
    "outputId": "3041594b-04fb-46dc-c298-ae160e1368dd"
   },
   "outputs": [
    {
     "data": {
      "text/html": [
       "<div>\n",
       "<style scoped>\n",
       "    .dataframe tbody tr th:only-of-type {\n",
       "        vertical-align: middle;\n",
       "    }\n",
       "\n",
       "    .dataframe tbody tr th {\n",
       "        vertical-align: top;\n",
       "    }\n",
       "\n",
       "    .dataframe thead th {\n",
       "        text-align: right;\n",
       "    }\n",
       "</style>\n",
       "<table border=\"1\" class=\"dataframe\">\n",
       "  <thead>\n",
       "    <tr style=\"text-align: right;\">\n",
       "      <th></th>\n",
       "      <th>gender</th>\n",
       "      <th>age</th>\n",
       "      <th>topic</th>\n",
       "      <th>sign</th>\n",
       "      <th>text</th>\n",
       "    </tr>\n",
       "  </thead>\n",
       "  <tbody>\n",
       "    <tr>\n",
       "      <th>0</th>\n",
       "      <td>male</td>\n",
       "      <td>15</td>\n",
       "      <td>Student</td>\n",
       "      <td>Leo</td>\n",
       "      <td>Info has been found (+/- 100 pages,...</td>\n",
       "    </tr>\n",
       "    <tr>\n",
       "      <th>1</th>\n",
       "      <td>male</td>\n",
       "      <td>15</td>\n",
       "      <td>Student</td>\n",
       "      <td>Leo</td>\n",
       "      <td>These are the team members:   Drewe...</td>\n",
       "    </tr>\n",
       "    <tr>\n",
       "      <th>2</th>\n",
       "      <td>male</td>\n",
       "      <td>15</td>\n",
       "      <td>Student</td>\n",
       "      <td>Leo</td>\n",
       "      <td>In het kader van kernfusie op aarde...</td>\n",
       "    </tr>\n",
       "    <tr>\n",
       "      <th>3</th>\n",
       "      <td>male</td>\n",
       "      <td>15</td>\n",
       "      <td>Student</td>\n",
       "      <td>Leo</td>\n",
       "      <td>testing!!!  testing!!!</td>\n",
       "    </tr>\n",
       "    <tr>\n",
       "      <th>4</th>\n",
       "      <td>male</td>\n",
       "      <td>33</td>\n",
       "      <td>InvestmentBanking</td>\n",
       "      <td>Aquarius</td>\n",
       "      <td>Thanks to Yahoo!'s Toolbar I can ...</td>\n",
       "    </tr>\n",
       "  </tbody>\n",
       "</table>\n",
       "</div>"
      ],
      "text/plain": [
       "  gender  age  ...      sign                                               text\n",
       "0   male   15  ...       Leo             Info has been found (+/- 100 pages,...\n",
       "1   male   15  ...       Leo             These are the team members:   Drewe...\n",
       "2   male   15  ...       Leo             In het kader van kernfusie op aarde...\n",
       "3   male   15  ...       Leo                   testing!!!  testing!!!          \n",
       "4   male   33  ...  Aquarius               Thanks to Yahoo!'s Toolbar I can ...\n",
       "\n",
       "[5 rows x 5 columns]"
      ]
     },
     "execution_count": 249,
     "metadata": {
      "tags": []
     },
     "output_type": "execute_result"
    }
   ],
   "source": [
    "blog_data_sample.head()"
   ]
  },
  {
   "cell_type": "code",
   "execution_count": 250,
   "metadata": {
    "executionInfo": {
     "elapsed": 25206,
     "status": "ok",
     "timestamp": 1620581965122,
     "user": {
      "displayName": "Soumita Chowdhury",
      "photoUrl": "https://lh3.googleusercontent.com/a-/AOh14GhObdw1u3uxDno8PBnDrmkvcHccSnXmpjy2A7PQ=s64",
      "userId": "09157550983538090427"
     },
     "user_tz": -330
    },
    "id": "U-x_re5u4i3I"
   },
   "outputs": [],
   "source": [
    "blog_data_sample['age']=blog_data_sample['age'].astype('object')"
   ]
  },
  {
   "cell_type": "code",
   "execution_count": 251,
   "metadata": {
    "colab": {
     "base_uri": "https://localhost:8080/"
    },
    "executionInfo": {
     "elapsed": 25198,
     "status": "ok",
     "timestamp": 1620581965122,
     "user": {
      "displayName": "Soumita Chowdhury",
      "photoUrl": "https://lh3.googleusercontent.com/a-/AOh14GhObdw1u3uxDno8PBnDrmkvcHccSnXmpjy2A7PQ=s64",
      "userId": "09157550983538090427"
     },
     "user_tz": -330
    },
    "id": "J_pZyWvm4m_Z",
    "outputId": "c697df46-0dd6-4f06-959f-1758b772e95a"
   },
   "outputs": [
    {
     "name": "stdout",
     "output_type": "stream",
     "text": [
      "<class 'pandas.core.frame.DataFrame'>\n",
      "RangeIndex: 10000 entries, 0 to 9999\n",
      "Data columns (total 5 columns):\n",
      " #   Column  Non-Null Count  Dtype \n",
      "---  ------  --------------  ----- \n",
      " 0   gender  10000 non-null  object\n",
      " 1   age     10000 non-null  object\n",
      " 2   topic   10000 non-null  object\n",
      " 3   sign    10000 non-null  object\n",
      " 4   text    10000 non-null  object\n",
      "dtypes: object(5)\n",
      "memory usage: 390.8+ KB\n"
     ]
    }
   ],
   "source": [
    "blog_data_sample.info()"
   ]
  },
  {
   "cell_type": "markdown",
   "metadata": {
    "id": "GJHPpyio4r2A"
   },
   "source": [
    "Now all columns are of type object"
   ]
  },
  {
   "cell_type": "markdown",
   "metadata": {
    "id": "EDGVnKS84y6n"
   },
   "source": [
    "Let us now remove all unwanted text from the text column"
   ]
  },
  {
   "cell_type": "code",
   "execution_count": 252,
   "metadata": {
    "executionInfo": {
     "elapsed": 25955,
     "status": "ok",
     "timestamp": 1620581965887,
     "user": {
      "displayName": "Soumita Chowdhury",
      "photoUrl": "https://lh3.googleusercontent.com/a-/AOh14GhObdw1u3uxDno8PBnDrmkvcHccSnXmpjy2A7PQ=s64",
      "userId": "09157550983538090427"
     },
     "user_tz": -330
    },
    "id": "PDj8Ban644zM"
   },
   "outputs": [],
   "source": [
    "#remove unwanted characters\n",
    "blog_data_sample['processed_data']=blog_data_sample['text'].apply(lambda x: re.sub(r'[^A-Za-z]+',' ',x))"
   ]
  },
  {
   "cell_type": "code",
   "execution_count": 253,
   "metadata": {
    "executionInfo": {
     "elapsed": 25949,
     "status": "ok",
     "timestamp": 1620581965888,
     "user": {
      "displayName": "Soumita Chowdhury",
      "photoUrl": "https://lh3.googleusercontent.com/a-/AOh14GhObdw1u3uxDno8PBnDrmkvcHccSnXmpjy2A7PQ=s64",
      "userId": "09157550983538090427"
     },
     "user_tz": -330
    },
    "id": "bZk8YRLg5BJd"
   },
   "outputs": [],
   "source": [
    "#change everything to lowercase\n",
    "blog_data_sample['processed_data']=blog_data_sample['processed_data'].apply(lambda x: x.lower())"
   ]
  },
  {
   "cell_type": "code",
   "execution_count": 254,
   "metadata": {
    "executionInfo": {
     "elapsed": 25941,
     "status": "ok",
     "timestamp": 1620581965888,
     "user": {
      "displayName": "Soumita Chowdhury",
      "photoUrl": "https://lh3.googleusercontent.com/a-/AOh14GhObdw1u3uxDno8PBnDrmkvcHccSnXmpjy2A7PQ=s64",
      "userId": "09157550983538090427"
     },
     "user_tz": -330
    },
    "id": "pQeBTzQ_5Bsv"
   },
   "outputs": [],
   "source": [
    "#strip spaces\n",
    "blog_data_sample['processed_data']=blog_data_sample['processed_data'].apply(lambda x: x.strip())"
   ]
  },
  {
   "cell_type": "code",
   "execution_count": 255,
   "metadata": {
    "colab": {
     "base_uri": "https://localhost:8080/"
    },
    "executionInfo": {
     "elapsed": 25936,
     "status": "ok",
     "timestamp": 1620581965890,
     "user": {
      "displayName": "Soumita Chowdhury",
      "photoUrl": "https://lh3.googleusercontent.com/a-/AOh14GhObdw1u3uxDno8PBnDrmkvcHccSnXmpjy2A7PQ=s64",
      "userId": "09157550983538090427"
     },
     "user_tz": -330
    },
    "id": "VfxgQ41_5DPR",
    "outputId": "f1cb45d7-e568-475d-990f-67103879b8de"
   },
   "outputs": [
    {
     "name": "stdout",
     "output_type": "stream",
     "text": [
      "Actual data =>            These are the team members:   Drewes van der Laag           urlLink mail  Ruiyu Xie                     urlLink mail  Bryan Aaldering (me)          urlLink mail          \n"
     ]
    }
   ],
   "source": [
    "print(\"Actual data => {}\".format(blog_data_sample['text'][1]))"
   ]
  },
  {
   "cell_type": "code",
   "execution_count": 256,
   "metadata": {
    "colab": {
     "base_uri": "https://localhost:8080/"
    },
    "executionInfo": {
     "elapsed": 25930,
     "status": "ok",
     "timestamp": 1620581965890,
     "user": {
      "displayName": "Soumita Chowdhury",
      "photoUrl": "https://lh3.googleusercontent.com/a-/AOh14GhObdw1u3uxDno8PBnDrmkvcHccSnXmpjy2A7PQ=s64",
      "userId": "09157550983538090427"
     },
     "user_tz": -330
    },
    "id": "6sMO6INy5GHZ",
    "outputId": "5de64f4d-bf99-4b63-e990-59987e6456fc"
   },
   "outputs": [
    {
     "name": "stdout",
     "output_type": "stream",
     "text": [
      "Processed data => these are the team members drewes van der laag urllink mail ruiyu xie urllink mail bryan aaldering me urllink mail\n"
     ]
    }
   ],
   "source": [
    "print(\"Processed data => {}\".format(blog_data_sample['processed_data'][1]))"
   ]
  },
  {
   "cell_type": "markdown",
   "metadata": {
    "id": "_mk2FHV25Hyo"
   },
   "source": [
    "Let us now remove all stop words"
   ]
  },
  {
   "cell_type": "code",
   "execution_count": 257,
   "metadata": {
    "colab": {
     "base_uri": "https://localhost:8080/"
    },
    "executionInfo": {
     "elapsed": 44567,
     "status": "ok",
     "timestamp": 1620581984532,
     "user": {
      "displayName": "Soumita Chowdhury",
      "photoUrl": "https://lh3.googleusercontent.com/a-/AOh14GhObdw1u3uxDno8PBnDrmkvcHccSnXmpjy2A7PQ=s64",
      "userId": "09157550983538090427"
     },
     "user_tz": -330
    },
    "id": "_QtxoSOBxPp1",
    "outputId": "3a9a568b-4267-4d4e-91b9-e29e86e0c803"
   },
   "outputs": [
    {
     "name": "stdout",
     "output_type": "stream",
     "text": [
      "[nltk_data] Downloading collection 'all'\n",
      "[nltk_data]    | \n",
      "[nltk_data]    | Downloading package abc to /root/nltk_data...\n",
      "[nltk_data]    |   Package abc is already up-to-date!\n",
      "[nltk_data]    | Downloading package alpino to /root/nltk_data...\n",
      "[nltk_data]    |   Package alpino is already up-to-date!\n",
      "[nltk_data]    | Downloading package biocreative_ppi to\n",
      "[nltk_data]    |     /root/nltk_data...\n",
      "[nltk_data]    |   Package biocreative_ppi is already up-to-date!\n",
      "[nltk_data]    | Downloading package brown to /root/nltk_data...\n",
      "[nltk_data]    |   Package brown is already up-to-date!\n",
      "[nltk_data]    | Downloading package brown_tei to /root/nltk_data...\n",
      "[nltk_data]    |   Package brown_tei is already up-to-date!\n",
      "[nltk_data]    | Downloading package cess_cat to /root/nltk_data...\n",
      "[nltk_data]    |   Package cess_cat is already up-to-date!\n",
      "[nltk_data]    | Downloading package cess_esp to /root/nltk_data...\n",
      "[nltk_data]    |   Package cess_esp is already up-to-date!\n",
      "[nltk_data]    | Downloading package chat80 to /root/nltk_data...\n",
      "[nltk_data]    |   Package chat80 is already up-to-date!\n",
      "[nltk_data]    | Downloading package city_database to\n",
      "[nltk_data]    |     /root/nltk_data...\n",
      "[nltk_data]    |   Package city_database is already up-to-date!\n",
      "[nltk_data]    | Downloading package cmudict to /root/nltk_data...\n",
      "[nltk_data]    |   Package cmudict is already up-to-date!\n",
      "[nltk_data]    | Downloading package comparative_sentences to\n",
      "[nltk_data]    |     /root/nltk_data...\n",
      "[nltk_data]    |   Package comparative_sentences is already up-to-\n",
      "[nltk_data]    |       date!\n",
      "[nltk_data]    | Downloading package comtrans to /root/nltk_data...\n",
      "[nltk_data]    |   Package comtrans is already up-to-date!\n",
      "[nltk_data]    | Downloading package conll2000 to /root/nltk_data...\n",
      "[nltk_data]    |   Package conll2000 is already up-to-date!\n",
      "[nltk_data]    | Downloading package conll2002 to /root/nltk_data...\n",
      "[nltk_data]    |   Package conll2002 is already up-to-date!\n",
      "[nltk_data]    | Downloading package conll2007 to /root/nltk_data...\n",
      "[nltk_data]    |   Package conll2007 is already up-to-date!\n",
      "[nltk_data]    | Downloading package crubadan to /root/nltk_data...\n",
      "[nltk_data]    |   Package crubadan is already up-to-date!\n",
      "[nltk_data]    | Downloading package dependency_treebank to\n",
      "[nltk_data]    |     /root/nltk_data...\n",
      "[nltk_data]    |   Package dependency_treebank is already up-to-date!\n",
      "[nltk_data]    | Downloading package dolch to /root/nltk_data...\n",
      "[nltk_data]    |   Package dolch is already up-to-date!\n",
      "[nltk_data]    | Downloading package europarl_raw to\n",
      "[nltk_data]    |     /root/nltk_data...\n",
      "[nltk_data]    |   Package europarl_raw is already up-to-date!\n",
      "[nltk_data]    | Downloading package floresta to /root/nltk_data...\n",
      "[nltk_data]    |   Package floresta is already up-to-date!\n",
      "[nltk_data]    | Downloading package framenet_v15 to\n",
      "[nltk_data]    |     /root/nltk_data...\n",
      "[nltk_data]    |   Package framenet_v15 is already up-to-date!\n",
      "[nltk_data]    | Downloading package framenet_v17 to\n",
      "[nltk_data]    |     /root/nltk_data...\n",
      "[nltk_data]    |   Package framenet_v17 is already up-to-date!\n",
      "[nltk_data]    | Downloading package gazetteers to /root/nltk_data...\n",
      "[nltk_data]    |   Package gazetteers is already up-to-date!\n",
      "[nltk_data]    | Downloading package genesis to /root/nltk_data...\n",
      "[nltk_data]    |   Package genesis is already up-to-date!\n",
      "[nltk_data]    | Downloading package gutenberg to /root/nltk_data...\n",
      "[nltk_data]    |   Package gutenberg is already up-to-date!\n",
      "[nltk_data]    | Downloading package ieer to /root/nltk_data...\n",
      "[nltk_data]    |   Package ieer is already up-to-date!\n",
      "[nltk_data]    | Downloading package inaugural to /root/nltk_data...\n",
      "[nltk_data]    |   Package inaugural is already up-to-date!\n",
      "[nltk_data]    | Downloading package indian to /root/nltk_data...\n",
      "[nltk_data]    |   Package indian is already up-to-date!\n",
      "[nltk_data]    | Downloading package jeita to /root/nltk_data...\n",
      "[nltk_data]    |   Package jeita is already up-to-date!\n",
      "[nltk_data]    | Downloading package kimmo to /root/nltk_data...\n",
      "[nltk_data]    |   Package kimmo is already up-to-date!\n",
      "[nltk_data]    | Downloading package knbc to /root/nltk_data...\n",
      "[nltk_data]    |   Package knbc is already up-to-date!\n",
      "[nltk_data]    | Downloading package lin_thesaurus to\n",
      "[nltk_data]    |     /root/nltk_data...\n",
      "[nltk_data]    |   Package lin_thesaurus is already up-to-date!\n",
      "[nltk_data]    | Downloading package mac_morpho to /root/nltk_data...\n",
      "[nltk_data]    |   Package mac_morpho is already up-to-date!\n",
      "[nltk_data]    | Downloading package machado to /root/nltk_data...\n",
      "[nltk_data]    |   Package machado is already up-to-date!\n",
      "[nltk_data]    | Downloading package masc_tagged to /root/nltk_data...\n",
      "[nltk_data]    |   Package masc_tagged is already up-to-date!\n",
      "[nltk_data]    | Downloading package moses_sample to\n",
      "[nltk_data]    |     /root/nltk_data...\n",
      "[nltk_data]    |   Package moses_sample is already up-to-date!\n",
      "[nltk_data]    | Downloading package movie_reviews to\n",
      "[nltk_data]    |     /root/nltk_data...\n",
      "[nltk_data]    |   Package movie_reviews is already up-to-date!\n",
      "[nltk_data]    | Downloading package names to /root/nltk_data...\n",
      "[nltk_data]    |   Package names is already up-to-date!\n",
      "[nltk_data]    | Downloading package nombank.1.0 to /root/nltk_data...\n",
      "[nltk_data]    |   Package nombank.1.0 is already up-to-date!\n",
      "[nltk_data]    | Downloading package nps_chat to /root/nltk_data...\n",
      "[nltk_data]    |   Package nps_chat is already up-to-date!\n",
      "[nltk_data]    | Downloading package omw to /root/nltk_data...\n",
      "[nltk_data]    |   Package omw is already up-to-date!\n",
      "[nltk_data]    | Downloading package opinion_lexicon to\n",
      "[nltk_data]    |     /root/nltk_data...\n",
      "[nltk_data]    |   Package opinion_lexicon is already up-to-date!\n",
      "[nltk_data]    | Downloading package paradigms to /root/nltk_data...\n",
      "[nltk_data]    |   Package paradigms is already up-to-date!\n",
      "[nltk_data]    | Downloading package pil to /root/nltk_data...\n",
      "[nltk_data]    |   Package pil is already up-to-date!\n",
      "[nltk_data]    | Downloading package pl196x to /root/nltk_data...\n",
      "[nltk_data]    |   Package pl196x is already up-to-date!\n",
      "[nltk_data]    | Downloading package ppattach to /root/nltk_data...\n",
      "[nltk_data]    |   Package ppattach is already up-to-date!\n",
      "[nltk_data]    | Downloading package problem_reports to\n",
      "[nltk_data]    |     /root/nltk_data...\n",
      "[nltk_data]    |   Package problem_reports is already up-to-date!\n",
      "[nltk_data]    | Downloading package propbank to /root/nltk_data...\n",
      "[nltk_data]    |   Package propbank is already up-to-date!\n",
      "[nltk_data]    | Downloading package ptb to /root/nltk_data...\n",
      "[nltk_data]    |   Package ptb is already up-to-date!\n",
      "[nltk_data]    | Downloading package product_reviews_1 to\n",
      "[nltk_data]    |     /root/nltk_data...\n",
      "[nltk_data]    |   Package product_reviews_1 is already up-to-date!\n",
      "[nltk_data]    | Downloading package product_reviews_2 to\n",
      "[nltk_data]    |     /root/nltk_data...\n",
      "[nltk_data]    |   Package product_reviews_2 is already up-to-date!\n",
      "[nltk_data]    | Downloading package pros_cons to /root/nltk_data...\n",
      "[nltk_data]    |   Package pros_cons is already up-to-date!\n",
      "[nltk_data]    | Downloading package qc to /root/nltk_data...\n",
      "[nltk_data]    |   Package qc is already up-to-date!\n",
      "[nltk_data]    | Downloading package reuters to /root/nltk_data...\n",
      "[nltk_data]    |   Package reuters is already up-to-date!\n",
      "[nltk_data]    | Downloading package rte to /root/nltk_data...\n",
      "[nltk_data]    |   Package rte is already up-to-date!\n",
      "[nltk_data]    | Downloading package semcor to /root/nltk_data...\n",
      "[nltk_data]    |   Package semcor is already up-to-date!\n",
      "[nltk_data]    | Downloading package senseval to /root/nltk_data...\n",
      "[nltk_data]    |   Package senseval is already up-to-date!\n",
      "[nltk_data]    | Downloading package sentiwordnet to\n",
      "[nltk_data]    |     /root/nltk_data...\n",
      "[nltk_data]    |   Package sentiwordnet is already up-to-date!\n",
      "[nltk_data]    | Downloading package sentence_polarity to\n",
      "[nltk_data]    |     /root/nltk_data...\n",
      "[nltk_data]    |   Package sentence_polarity is already up-to-date!\n",
      "[nltk_data]    | Downloading package shakespeare to /root/nltk_data...\n",
      "[nltk_data]    |   Package shakespeare is already up-to-date!\n",
      "[nltk_data]    | Downloading package sinica_treebank to\n",
      "[nltk_data]    |     /root/nltk_data...\n",
      "[nltk_data]    |   Package sinica_treebank is already up-to-date!\n",
      "[nltk_data]    | Downloading package smultron to /root/nltk_data...\n",
      "[nltk_data]    |   Package smultron is already up-to-date!\n",
      "[nltk_data]    | Downloading package state_union to /root/nltk_data...\n",
      "[nltk_data]    |   Package state_union is already up-to-date!\n",
      "[nltk_data]    | Downloading package stopwords to /root/nltk_data...\n",
      "[nltk_data]    |   Package stopwords is already up-to-date!\n",
      "[nltk_data]    | Downloading package subjectivity to\n",
      "[nltk_data]    |     /root/nltk_data...\n",
      "[nltk_data]    |   Package subjectivity is already up-to-date!\n",
      "[nltk_data]    | Downloading package swadesh to /root/nltk_data...\n",
      "[nltk_data]    |   Package swadesh is already up-to-date!\n",
      "[nltk_data]    | Downloading package switchboard to /root/nltk_data...\n",
      "[nltk_data]    |   Package switchboard is already up-to-date!\n",
      "[nltk_data]    | Downloading package timit to /root/nltk_data...\n",
      "[nltk_data]    |   Package timit is already up-to-date!\n",
      "[nltk_data]    | Downloading package toolbox to /root/nltk_data...\n",
      "[nltk_data]    |   Package toolbox is already up-to-date!\n",
      "[nltk_data]    | Downloading package treebank to /root/nltk_data...\n",
      "[nltk_data]    |   Package treebank is already up-to-date!\n",
      "[nltk_data]    | Downloading package twitter_samples to\n",
      "[nltk_data]    |     /root/nltk_data...\n",
      "[nltk_data]    |   Package twitter_samples is already up-to-date!\n",
      "[nltk_data]    | Downloading package udhr to /root/nltk_data...\n",
      "[nltk_data]    |   Package udhr is already up-to-date!\n",
      "[nltk_data]    | Downloading package udhr2 to /root/nltk_data...\n",
      "[nltk_data]    |   Package udhr2 is already up-to-date!\n",
      "[nltk_data]    | Downloading package unicode_samples to\n",
      "[nltk_data]    |     /root/nltk_data...\n",
      "[nltk_data]    |   Package unicode_samples is already up-to-date!\n",
      "[nltk_data]    | Downloading package universal_treebanks_v20 to\n",
      "[nltk_data]    |     /root/nltk_data...\n",
      "[nltk_data]    |   Package universal_treebanks_v20 is already up-to-\n",
      "[nltk_data]    |       date!\n",
      "[nltk_data]    | Downloading package verbnet to /root/nltk_data...\n",
      "[nltk_data]    |   Package verbnet is already up-to-date!\n",
      "[nltk_data]    | Downloading package verbnet3 to /root/nltk_data...\n",
      "[nltk_data]    |   Package verbnet3 is already up-to-date!\n",
      "[nltk_data]    | Downloading package webtext to /root/nltk_data...\n",
      "[nltk_data]    |   Package webtext is already up-to-date!\n",
      "[nltk_data]    | Downloading package wordnet to /root/nltk_data...\n",
      "[nltk_data]    |   Package wordnet is already up-to-date!\n",
      "[nltk_data]    | Downloading package wordnet_ic to /root/nltk_data...\n",
      "[nltk_data]    |   Package wordnet_ic is already up-to-date!\n",
      "[nltk_data]    | Downloading package words to /root/nltk_data...\n",
      "[nltk_data]    |   Package words is already up-to-date!\n",
      "[nltk_data]    | Downloading package ycoe to /root/nltk_data...\n",
      "[nltk_data]    |   Package ycoe is already up-to-date!\n",
      "[nltk_data]    | Downloading package rslp to /root/nltk_data...\n",
      "[nltk_data]    |   Package rslp is already up-to-date!\n",
      "[nltk_data]    | Downloading package maxent_treebank_pos_tagger to\n",
      "[nltk_data]    |     /root/nltk_data...\n",
      "[nltk_data]    |   Package maxent_treebank_pos_tagger is already up-\n",
      "[nltk_data]    |       to-date!\n",
      "[nltk_data]    | Downloading package universal_tagset to\n",
      "[nltk_data]    |     /root/nltk_data...\n",
      "[nltk_data]    |   Package universal_tagset is already up-to-date!\n",
      "[nltk_data]    | Downloading package maxent_ne_chunker to\n",
      "[nltk_data]    |     /root/nltk_data...\n",
      "[nltk_data]    |   Package maxent_ne_chunker is already up-to-date!\n",
      "[nltk_data]    | Downloading package punkt to /root/nltk_data...\n",
      "[nltk_data]    |   Package punkt is already up-to-date!\n",
      "[nltk_data]    | Downloading package book_grammars to\n",
      "[nltk_data]    |     /root/nltk_data...\n",
      "[nltk_data]    |   Package book_grammars is already up-to-date!\n",
      "[nltk_data]    | Downloading package sample_grammars to\n",
      "[nltk_data]    |     /root/nltk_data...\n",
      "[nltk_data]    |   Package sample_grammars is already up-to-date!\n",
      "[nltk_data]    | Downloading package spanish_grammars to\n",
      "[nltk_data]    |     /root/nltk_data...\n",
      "[nltk_data]    |   Package spanish_grammars is already up-to-date!\n",
      "[nltk_data]    | Downloading package basque_grammars to\n",
      "[nltk_data]    |     /root/nltk_data...\n",
      "[nltk_data]    |   Package basque_grammars is already up-to-date!\n",
      "[nltk_data]    | Downloading package large_grammars to\n",
      "[nltk_data]    |     /root/nltk_data...\n",
      "[nltk_data]    |   Package large_grammars is already up-to-date!\n",
      "[nltk_data]    | Downloading package tagsets to /root/nltk_data...\n",
      "[nltk_data]    |   Package tagsets is already up-to-date!\n",
      "[nltk_data]    | Downloading package snowball_data to\n",
      "[nltk_data]    |     /root/nltk_data...\n",
      "[nltk_data]    |   Package snowball_data is already up-to-date!\n",
      "[nltk_data]    | Downloading package bllip_wsj_no_aux to\n",
      "[nltk_data]    |     /root/nltk_data...\n",
      "[nltk_data]    |   Package bllip_wsj_no_aux is already up-to-date!\n",
      "[nltk_data]    | Downloading package word2vec_sample to\n",
      "[nltk_data]    |     /root/nltk_data...\n",
      "[nltk_data]    |   Package word2vec_sample is already up-to-date!\n",
      "[nltk_data]    | Downloading package panlex_swadesh to\n",
      "[nltk_data]    |     /root/nltk_data...\n",
      "[nltk_data]    |   Package panlex_swadesh is already up-to-date!\n",
      "[nltk_data]    | Downloading package mte_teip5 to /root/nltk_data...\n",
      "[nltk_data]    |   Package mte_teip5 is already up-to-date!\n",
      "[nltk_data]    | Downloading package averaged_perceptron_tagger to\n",
      "[nltk_data]    |     /root/nltk_data...\n",
      "[nltk_data]    |   Package averaged_perceptron_tagger is already up-\n",
      "[nltk_data]    |       to-date!\n",
      "[nltk_data]    | Downloading package averaged_perceptron_tagger_ru to\n",
      "[nltk_data]    |     /root/nltk_data...\n",
      "[nltk_data]    |   Package averaged_perceptron_tagger_ru is already\n",
      "[nltk_data]    |       up-to-date!\n",
      "[nltk_data]    | Downloading package perluniprops to\n",
      "[nltk_data]    |     /root/nltk_data...\n",
      "[nltk_data]    |   Package perluniprops is already up-to-date!\n",
      "[nltk_data]    | Downloading package nonbreaking_prefixes to\n",
      "[nltk_data]    |     /root/nltk_data...\n",
      "[nltk_data]    |   Package nonbreaking_prefixes is already up-to-date!\n",
      "[nltk_data]    | Downloading package vader_lexicon to\n",
      "[nltk_data]    |     /root/nltk_data...\n",
      "[nltk_data]    |   Package vader_lexicon is already up-to-date!\n",
      "[nltk_data]    | Downloading package porter_test to /root/nltk_data...\n",
      "[nltk_data]    |   Package porter_test is already up-to-date!\n",
      "[nltk_data]    | Downloading package wmt15_eval to /root/nltk_data...\n",
      "[nltk_data]    |   Package wmt15_eval is already up-to-date!\n",
      "[nltk_data]    | Downloading package mwa_ppdb to /root/nltk_data...\n",
      "[nltk_data]    |   Package mwa_ppdb is already up-to-date!\n",
      "[nltk_data]    | \n",
      "[nltk_data]  Done downloading collection all\n"
     ]
    },
    {
     "data": {
      "text/plain": [
       "True"
      ]
     },
     "execution_count": 257,
     "metadata": {
      "tags": []
     },
     "output_type": "execute_result"
    }
   ],
   "source": [
    "nltk.download('all')"
   ]
  },
  {
   "cell_type": "code",
   "execution_count": 258,
   "metadata": {
    "executionInfo": {
     "elapsed": 44560,
     "status": "ok",
     "timestamp": 1620581984533,
     "user": {
      "displayName": "Soumita Chowdhury",
      "photoUrl": "https://lh3.googleusercontent.com/a-/AOh14GhObdw1u3uxDno8PBnDrmkvcHccSnXmpjy2A7PQ=s64",
      "userId": "09157550983538090427"
     },
     "user_tz": -330
    },
    "id": "u_jF6q_z5Kkk"
   },
   "outputs": [],
   "source": [
    "from nltk.corpus import stopwords\n",
    "stopwords=set(stopwords.words('english'))"
   ]
  },
  {
   "cell_type": "code",
   "execution_count": 259,
   "metadata": {
    "executionInfo": {
     "elapsed": 45428,
     "status": "ok",
     "timestamp": 1620581985406,
     "user": {
      "displayName": "Soumita Chowdhury",
      "photoUrl": "https://lh3.googleusercontent.com/a-/AOh14GhObdw1u3uxDno8PBnDrmkvcHccSnXmpjy2A7PQ=s64",
      "userId": "09157550983538090427"
     },
     "user_tz": -330
    },
    "id": "_wz6XAGi5832"
   },
   "outputs": [],
   "source": [
    "blog_data_sample['processed_data']=blog_data_sample['processed_data'].apply(lambda x: ' '.join([words for words in x.split() if words not in stopwords]))"
   ]
  },
  {
   "cell_type": "code",
   "execution_count": 260,
   "metadata": {
    "colab": {
     "base_uri": "https://localhost:8080/",
     "height": 178
    },
    "executionInfo": {
     "elapsed": 45423,
     "status": "ok",
     "timestamp": 1620581985407,
     "user": {
      "displayName": "Soumita Chowdhury",
      "photoUrl": "https://lh3.googleusercontent.com/a-/AOh14GhObdw1u3uxDno8PBnDrmkvcHccSnXmpjy2A7PQ=s64",
      "userId": "09157550983538090427"
     },
     "user_tz": -330
    },
    "id": "11MsNRNq6L3s",
    "outputId": "ae23223c-1fdf-493a-a48c-6f46334e3d9a"
   },
   "outputs": [
    {
     "data": {
      "application/vnd.google.colaboratory.intrinsic+json": {
       "type": "string"
      },
      "text/plain": [
       "'anything korea country extremes everything seems fad based think may come korea history invaded reported times years time got independence imagine move quickly get next level next war occupation lately well really lately japanese occupation ended korean war occurred turmoil park chung hee took dictator president elections everyone encouraged vote still dictator assassination next leaders basically ilk president park amazing things time however took incredibly backward country set road industrialization japan stripped korea resources people even language culture many buildings palaces razed japanese official language president park determined change orchestrated han river miracle han river hangang main river seoul korea korea made terrific strides expense civil liberties fastforward present point see korea world wired nation canada finland way beyond u craze pc pc bangs rooms everywhere country well instead playstation like games players go computer one two people korean gamers always communal types play online games hundreds thousands others typical korean fashion gamers left seat second could pause game fact may eliminated pcbang owners sold drinks ramen nooodles junk clientele matter time someone died related urllink article yes someone died pc people thought sleeping imagine long really checked alas first known casulty net korea maybe world korea built extremes good bad'"
      ]
     },
     "execution_count": 260,
     "metadata": {
      "tags": []
     },
     "output_type": "execute_result"
    }
   ],
   "source": [
    "blog_data_sample['processed_data'][7]"
   ]
  },
  {
   "cell_type": "markdown",
   "metadata": {
    "id": "8sGODis86XFP"
   },
   "source": [
    "Let us merge all the other columns into labels columns"
   ]
  },
  {
   "cell_type": "code",
   "execution_count": 261,
   "metadata": {
    "executionInfo": {
     "elapsed": 45421,
     "status": "ok",
     "timestamp": 1620581985410,
     "user": {
      "displayName": "Soumita Chowdhury",
      "photoUrl": "https://lh3.googleusercontent.com/a-/AOh14GhObdw1u3uxDno8PBnDrmkvcHccSnXmpjy2A7PQ=s64",
      "userId": "09157550983538090427"
     },
     "user_tz": -330
    },
    "id": "ZhL3U5CE6VFJ"
   },
   "outputs": [],
   "source": [
    "blog_data_sample['labels']=blog_data_sample.apply(lambda col: [col['gender'],str(col['age']),col['topic'],col['sign']], axis=1)"
   ]
  },
  {
   "cell_type": "code",
   "execution_count": 262,
   "metadata": {
    "colab": {
     "base_uri": "https://localhost:8080/",
     "height": 285
    },
    "executionInfo": {
     "elapsed": 45417,
     "status": "ok",
     "timestamp": 1620581985411,
     "user": {
      "displayName": "Soumita Chowdhury",
      "photoUrl": "https://lh3.googleusercontent.com/a-/AOh14GhObdw1u3uxDno8PBnDrmkvcHccSnXmpjy2A7PQ=s64",
      "userId": "09157550983538090427"
     },
     "user_tz": -330
    },
    "id": "SqF3ioAU6kAp",
    "outputId": "32879a25-4ff4-4e06-b9cd-1c3b982cbb58"
   },
   "outputs": [
    {
     "data": {
      "text/html": [
       "<div>\n",
       "<style scoped>\n",
       "    .dataframe tbody tr th:only-of-type {\n",
       "        vertical-align: middle;\n",
       "    }\n",
       "\n",
       "    .dataframe tbody tr th {\n",
       "        vertical-align: top;\n",
       "    }\n",
       "\n",
       "    .dataframe thead th {\n",
       "        text-align: right;\n",
       "    }\n",
       "</style>\n",
       "<table border=\"1\" class=\"dataframe\">\n",
       "  <thead>\n",
       "    <tr style=\"text-align: right;\">\n",
       "      <th></th>\n",
       "      <th>gender</th>\n",
       "      <th>age</th>\n",
       "      <th>topic</th>\n",
       "      <th>sign</th>\n",
       "      <th>text</th>\n",
       "      <th>processed_data</th>\n",
       "      <th>labels</th>\n",
       "    </tr>\n",
       "  </thead>\n",
       "  <tbody>\n",
       "    <tr>\n",
       "      <th>0</th>\n",
       "      <td>male</td>\n",
       "      <td>15</td>\n",
       "      <td>Student</td>\n",
       "      <td>Leo</td>\n",
       "      <td>Info has been found (+/- 100 pages,...</td>\n",
       "      <td>info found pages mb pdf files wait untill team...</td>\n",
       "      <td>[male, 15, Student, Leo]</td>\n",
       "    </tr>\n",
       "    <tr>\n",
       "      <th>1</th>\n",
       "      <td>male</td>\n",
       "      <td>15</td>\n",
       "      <td>Student</td>\n",
       "      <td>Leo</td>\n",
       "      <td>These are the team members:   Drewe...</td>\n",
       "      <td>team members drewes van der laag urllink mail ...</td>\n",
       "      <td>[male, 15, Student, Leo]</td>\n",
       "    </tr>\n",
       "    <tr>\n",
       "      <th>2</th>\n",
       "      <td>male</td>\n",
       "      <td>15</td>\n",
       "      <td>Student</td>\n",
       "      <td>Leo</td>\n",
       "      <td>In het kader van kernfusie op aarde...</td>\n",
       "      <td>het kader van kernfusie op aarde maak je eigen...</td>\n",
       "      <td>[male, 15, Student, Leo]</td>\n",
       "    </tr>\n",
       "    <tr>\n",
       "      <th>3</th>\n",
       "      <td>male</td>\n",
       "      <td>15</td>\n",
       "      <td>Student</td>\n",
       "      <td>Leo</td>\n",
       "      <td>testing!!!  testing!!!</td>\n",
       "      <td>testing testing</td>\n",
       "      <td>[male, 15, Student, Leo]</td>\n",
       "    </tr>\n",
       "    <tr>\n",
       "      <th>4</th>\n",
       "      <td>male</td>\n",
       "      <td>33</td>\n",
       "      <td>InvestmentBanking</td>\n",
       "      <td>Aquarius</td>\n",
       "      <td>Thanks to Yahoo!'s Toolbar I can ...</td>\n",
       "      <td>thanks yahoo toolbar capture urls popups means...</td>\n",
       "      <td>[male, 33, InvestmentBanking, Aquarius]</td>\n",
       "    </tr>\n",
       "  </tbody>\n",
       "</table>\n",
       "</div>"
      ],
      "text/plain": [
       "  gender  ...                                   labels\n",
       "0   male  ...                 [male, 15, Student, Leo]\n",
       "1   male  ...                 [male, 15, Student, Leo]\n",
       "2   male  ...                 [male, 15, Student, Leo]\n",
       "3   male  ...                 [male, 15, Student, Leo]\n",
       "4   male  ...  [male, 33, InvestmentBanking, Aquarius]\n",
       "\n",
       "[5 rows x 7 columns]"
      ]
     },
     "execution_count": 262,
     "metadata": {
      "tags": []
     },
     "output_type": "execute_result"
    }
   ],
   "source": [
    "blog_data_sample.head()"
   ]
  },
  {
   "cell_type": "code",
   "execution_count": 263,
   "metadata": {
    "executionInfo": {
     "elapsed": 45413,
     "status": "ok",
     "timestamp": 1620581985412,
     "user": {
      "displayName": "Soumita Chowdhury",
      "photoUrl": "https://lh3.googleusercontent.com/a-/AOh14GhObdw1u3uxDno8PBnDrmkvcHccSnXmpjy2A7PQ=s64",
      "userId": "09157550983538090427"
     },
     "user_tz": -330
    },
    "id": "Kvj-3qKO6mmN"
   },
   "outputs": [],
   "source": [
    "blog_data_sample=blog_data_sample[['processed_data','labels']]"
   ]
  },
  {
   "cell_type": "code",
   "execution_count": 264,
   "metadata": {
    "colab": {
     "base_uri": "https://localhost:8080/",
     "height": 202
    },
    "executionInfo": {
     "elapsed": 45409,
     "status": "ok",
     "timestamp": 1620581985413,
     "user": {
      "displayName": "Soumita Chowdhury",
      "photoUrl": "https://lh3.googleusercontent.com/a-/AOh14GhObdw1u3uxDno8PBnDrmkvcHccSnXmpjy2A7PQ=s64",
      "userId": "09157550983538090427"
     },
     "user_tz": -330
    },
    "id": "9HRJuQLk6vst",
    "outputId": "b776ff47-a90d-4544-c52a-7643983212af"
   },
   "outputs": [
    {
     "data": {
      "text/html": [
       "<div>\n",
       "<style scoped>\n",
       "    .dataframe tbody tr th:only-of-type {\n",
       "        vertical-align: middle;\n",
       "    }\n",
       "\n",
       "    .dataframe tbody tr th {\n",
       "        vertical-align: top;\n",
       "    }\n",
       "\n",
       "    .dataframe thead th {\n",
       "        text-align: right;\n",
       "    }\n",
       "</style>\n",
       "<table border=\"1\" class=\"dataframe\">\n",
       "  <thead>\n",
       "    <tr style=\"text-align: right;\">\n",
       "      <th></th>\n",
       "      <th>processed_data</th>\n",
       "      <th>labels</th>\n",
       "    </tr>\n",
       "  </thead>\n",
       "  <tbody>\n",
       "    <tr>\n",
       "      <th>0</th>\n",
       "      <td>info found pages mb pdf files wait untill team...</td>\n",
       "      <td>[male, 15, Student, Leo]</td>\n",
       "    </tr>\n",
       "    <tr>\n",
       "      <th>1</th>\n",
       "      <td>team members drewes van der laag urllink mail ...</td>\n",
       "      <td>[male, 15, Student, Leo]</td>\n",
       "    </tr>\n",
       "    <tr>\n",
       "      <th>2</th>\n",
       "      <td>het kader van kernfusie op aarde maak je eigen...</td>\n",
       "      <td>[male, 15, Student, Leo]</td>\n",
       "    </tr>\n",
       "    <tr>\n",
       "      <th>3</th>\n",
       "      <td>testing testing</td>\n",
       "      <td>[male, 15, Student, Leo]</td>\n",
       "    </tr>\n",
       "    <tr>\n",
       "      <th>4</th>\n",
       "      <td>thanks yahoo toolbar capture urls popups means...</td>\n",
       "      <td>[male, 33, InvestmentBanking, Aquarius]</td>\n",
       "    </tr>\n",
       "  </tbody>\n",
       "</table>\n",
       "</div>"
      ],
      "text/plain": [
       "                                      processed_data                                   labels\n",
       "0  info found pages mb pdf files wait untill team...                 [male, 15, Student, Leo]\n",
       "1  team members drewes van der laag urllink mail ...                 [male, 15, Student, Leo]\n",
       "2  het kader van kernfusie op aarde maak je eigen...                 [male, 15, Student, Leo]\n",
       "3                                    testing testing                 [male, 15, Student, Leo]\n",
       "4  thanks yahoo toolbar capture urls popups means...  [male, 33, InvestmentBanking, Aquarius]"
      ]
     },
     "execution_count": 264,
     "metadata": {
      "tags": []
     },
     "output_type": "execute_result"
    }
   ],
   "source": [
    "blog_data_sample.head()"
   ]
  },
  {
   "cell_type": "code",
   "execution_count": 265,
   "metadata": {
    "colab": {
     "base_uri": "https://localhost:8080/"
    },
    "executionInfo": {
     "elapsed": 45398,
     "status": "ok",
     "timestamp": 1620581985414,
     "user": {
      "displayName": "Soumita Chowdhury",
      "photoUrl": "https://lh3.googleusercontent.com/a-/AOh14GhObdw1u3uxDno8PBnDrmkvcHccSnXmpjy2A7PQ=s64",
      "userId": "09157550983538090427"
     },
     "user_tz": -330
    },
    "id": "ZykLWqtk2wHJ",
    "outputId": "6bbb289f-9ca8-4bed-dcf3-28c65ceab57a"
   },
   "outputs": [
    {
     "data": {
      "text/plain": [
       "(10000, 2)"
      ]
     },
     "execution_count": 265,
     "metadata": {
      "tags": []
     },
     "output_type": "execute_result"
    }
   ],
   "source": [
    "blog_data_sample.shape"
   ]
  },
  {
   "cell_type": "markdown",
   "metadata": {
    "id": "hTDWFuq366fX"
   },
   "source": [
    "Train and test split"
   ]
  },
  {
   "cell_type": "code",
   "execution_count": 266,
   "metadata": {
    "executionInfo": {
     "elapsed": 45392,
     "status": "ok",
     "timestamp": 1620581985414,
     "user": {
      "displayName": "Soumita Chowdhury",
      "photoUrl": "https://lh3.googleusercontent.com/a-/AOh14GhObdw1u3uxDno8PBnDrmkvcHccSnXmpjy2A7PQ=s64",
      "userId": "09157550983538090427"
     },
     "user_tz": -330
    },
    "id": "BhvK78Sh6742"
   },
   "outputs": [],
   "source": [
    "X=blog_data_sample['processed_data']"
   ]
  },
  {
   "cell_type": "code",
   "execution_count": 267,
   "metadata": {
    "executionInfo": {
     "elapsed": 45387,
     "status": "ok",
     "timestamp": 1620581985415,
     "user": {
      "displayName": "Soumita Chowdhury",
      "photoUrl": "https://lh3.googleusercontent.com/a-/AOh14GhObdw1u3uxDno8PBnDrmkvcHccSnXmpjy2A7PQ=s64",
      "userId": "09157550983538090427"
     },
     "user_tz": -330
    },
    "id": "fAbWnsot7CiL"
   },
   "outputs": [],
   "source": [
    "Y=blog_data_sample['labels']"
   ]
  },
  {
   "cell_type": "markdown",
   "metadata": {
    "id": "DfCb-CPe7JFM"
   },
   "source": [
    "Let us now perform count vectorizer with bi-gram and tri-gram models to get count vectors of X"
   ]
  },
  {
   "cell_type": "code",
   "execution_count": 268,
   "metadata": {
    "executionInfo": {
     "elapsed": 45382,
     "status": "ok",
     "timestamp": 1620581985416,
     "user": {
      "displayName": "Soumita Chowdhury",
      "photoUrl": "https://lh3.googleusercontent.com/a-/AOh14GhObdw1u3uxDno8PBnDrmkvcHccSnXmpjy2A7PQ=s64",
      "userId": "09157550983538090427"
     },
     "user_tz": -330
    },
    "id": "ZgDZ_bTB7RdW"
   },
   "outputs": [],
   "source": [
    "from sklearn.feature_extraction.text import CountVectorizer"
   ]
  },
  {
   "cell_type": "code",
   "execution_count": 269,
   "metadata": {
    "executionInfo": {
     "elapsed": 45376,
     "status": "ok",
     "timestamp": 1620581985416,
     "user": {
      "displayName": "Soumita Chowdhury",
      "photoUrl": "https://lh3.googleusercontent.com/a-/AOh14GhObdw1u3uxDno8PBnDrmkvcHccSnXmpjy2A7PQ=s64",
      "userId": "09157550983538090427"
     },
     "user_tz": -330
    },
    "id": "jnghIAdY7TkI"
   },
   "outputs": [],
   "source": [
    "vectorizer=CountVectorizer(binary=True, ngram_range=(1,2))"
   ]
  },
  {
   "cell_type": "code",
   "execution_count": 270,
   "metadata": {
    "executionInfo": {
     "elapsed": 49503,
     "status": "ok",
     "timestamp": 1620581989548,
     "user": {
      "displayName": "Soumita Chowdhury",
      "photoUrl": "https://lh3.googleusercontent.com/a-/AOh14GhObdw1u3uxDno8PBnDrmkvcHccSnXmpjy2A7PQ=s64",
      "userId": "09157550983538090427"
     },
     "user_tz": -330
    },
    "id": "VmLoe01N7YFh"
   },
   "outputs": [],
   "source": [
    "X=vectorizer.fit_transform(X)"
   ]
  },
  {
   "cell_type": "code",
   "execution_count": 271,
   "metadata": {
    "colab": {
     "base_uri": "https://localhost:8080/"
    },
    "executionInfo": {
     "elapsed": 50134,
     "status": "ok",
     "timestamp": 1620581990184,
     "user": {
      "displayName": "Soumita Chowdhury",
      "photoUrl": "https://lh3.googleusercontent.com/a-/AOh14GhObdw1u3uxDno8PBnDrmkvcHccSnXmpjy2A7PQ=s64",
      "userId": "09157550983538090427"
     },
     "user_tz": -330
    },
    "id": "3X0mg-6EJKIm",
    "outputId": "23fc3d8f-4a06-4f11-87dc-23ec88d94e07"
   },
   "outputs": [
    {
     "data": {
      "text/plain": [
       "['aa',\n",
       " 'aa amazing',\n",
       " 'aa anger',\n",
       " 'aa compared',\n",
       " 'aa keeps',\n",
       " 'aa nice',\n",
       " 'aa sd',\n",
       " 'aaa',\n",
       " 'aaa come',\n",
       " 'aaa discount']"
      ]
     },
     "execution_count": 271,
     "metadata": {
      "tags": []
     },
     "output_type": "execute_result"
    }
   ],
   "source": [
    "vectorizer.get_feature_names()[:10]"
   ]
  },
  {
   "cell_type": "code",
   "execution_count": 272,
   "metadata": {
    "executionInfo": {
     "elapsed": 50129,
     "status": "ok",
     "timestamp": 1620581990184,
     "user": {
      "displayName": "Soumita Chowdhury",
      "photoUrl": "https://lh3.googleusercontent.com/a-/AOh14GhObdw1u3uxDno8PBnDrmkvcHccSnXmpjy2A7PQ=s64",
      "userId": "09157550983538090427"
     },
     "user_tz": -330
    },
    "id": "mG6NHbFjJi6H"
   },
   "outputs": [],
   "source": [
    "label_counts=dict()\n",
    "\n",
    "for labels in blog_data_sample.labels.values:\n",
    "    for label in labels:\n",
    "        if label in label_counts:\n",
    "            label_counts[label]+=1\n",
    "        else:\n",
    "            label_counts[label]=1"
   ]
  },
  {
   "cell_type": "code",
   "execution_count": 273,
   "metadata": {
    "colab": {
     "base_uri": "https://localhost:8080/"
    },
    "executionInfo": {
     "elapsed": 50125,
     "status": "ok",
     "timestamp": 1620581990185,
     "user": {
      "displayName": "Soumita Chowdhury",
      "photoUrl": "https://lh3.googleusercontent.com/a-/AOh14GhObdw1u3uxDno8PBnDrmkvcHccSnXmpjy2A7PQ=s64",
      "userId": "09157550983538090427"
     },
     "user_tz": -330
    },
    "id": "PwaV04VBLdxL",
    "outputId": "bf8177e5-46b3-484a-dc33-095263e9a559"
   },
   "outputs": [
    {
     "data": {
      "text/plain": [
       "{'13': 42,\n",
       " '14': 212,\n",
       " '15': 602,\n",
       " '16': 440,\n",
       " '17': 1185,\n",
       " '23': 253,\n",
       " '24': 655,\n",
       " '25': 386,\n",
       " '26': 234,\n",
       " '27': 1054,\n",
       " '33': 136,\n",
       " '34': 553,\n",
       " '35': 2315,\n",
       " '36': 1708,\n",
       " '37': 33,\n",
       " '38': 46,\n",
       " '39': 79,\n",
       " '40': 1,\n",
       " '41': 20,\n",
       " '42': 14,\n",
       " '43': 6,\n",
       " '44': 3,\n",
       " '45': 16,\n",
       " '46': 7,\n",
       " 'Accounting': 4,\n",
       " 'Aquarius': 571,\n",
       " 'Aries': 4198,\n",
       " 'Arts': 45,\n",
       " 'Automotive': 14,\n",
       " 'Banking': 16,\n",
       " 'BusinessServices': 91,\n",
       " 'Cancer': 504,\n",
       " 'Capricorn': 215,\n",
       " 'Communications-Media': 99,\n",
       " 'Consulting': 21,\n",
       " 'Education': 270,\n",
       " 'Engineering': 127,\n",
       " 'Fashion': 1622,\n",
       " 'Gemini': 150,\n",
       " 'HumanResources': 2,\n",
       " 'Internet': 118,\n",
       " 'InvestmentBanking': 70,\n",
       " 'Law': 11,\n",
       " 'LawEnforcement-Security': 10,\n",
       " 'Leo': 301,\n",
       " 'Libra': 491,\n",
       " 'Marketing': 156,\n",
       " 'Museums-Libraries': 17,\n",
       " 'Non-Profit': 71,\n",
       " 'Pisces': 454,\n",
       " 'Publishing': 4,\n",
       " 'Religion': 9,\n",
       " 'Sagittarius': 1097,\n",
       " 'Science': 63,\n",
       " 'Scorpio': 971,\n",
       " 'Sports-Recreation': 80,\n",
       " 'Student': 1137,\n",
       " 'Taurus': 812,\n",
       " 'Technology': 2654,\n",
       " 'Telecommunications': 2,\n",
       " 'Virgo': 236,\n",
       " 'female': 4084,\n",
       " 'indUnk': 3287,\n",
       " 'male': 5916}"
      ]
     },
     "execution_count": 273,
     "metadata": {
      "tags": []
     },
     "output_type": "execute_result"
    }
   ],
   "source": [
    "label_counts"
   ]
  },
  {
   "cell_type": "code",
   "execution_count": 274,
   "metadata": {
    "executionInfo": {
     "elapsed": 50599,
     "status": "ok",
     "timestamp": 1620581990664,
     "user": {
      "displayName": "Soumita Chowdhury",
      "photoUrl": "https://lh3.googleusercontent.com/a-/AOh14GhObdw1u3uxDno8PBnDrmkvcHccSnXmpjy2A7PQ=s64",
      "userId": "09157550983538090427"
     },
     "user_tz": -330
    },
    "id": "MjohxSAGLiHH"
   },
   "outputs": [],
   "source": [
    "#Let us preprocess the labels now\n",
    "from sklearn.preprocessing import MultiLabelBinarizer\n",
    "binarizer=MultiLabelBinarizer(classes=sorted(label_counts.keys()))"
   ]
  },
  {
   "cell_type": "code",
   "execution_count": 275,
   "metadata": {
    "executionInfo": {
     "elapsed": 50594,
     "status": "ok",
     "timestamp": 1620581990664,
     "user": {
      "displayName": "Soumita Chowdhury",
      "photoUrl": "https://lh3.googleusercontent.com/a-/AOh14GhObdw1u3uxDno8PBnDrmkvcHccSnXmpjy2A7PQ=s64",
      "userId": "09157550983538090427"
     },
     "user_tz": -330
    },
    "id": "R6-ztMe2Lq6X"
   },
   "outputs": [],
   "source": [
    "Y=binarizer.fit_transform(blog_data_sample.labels)"
   ]
  },
  {
   "cell_type": "markdown",
   "metadata": {
    "id": "WC1jBaodLveG"
   },
   "source": [
    "Let us now split the data into training and test"
   ]
  },
  {
   "cell_type": "code",
   "execution_count": 276,
   "metadata": {
    "executionInfo": {
     "elapsed": 50591,
     "status": "ok",
     "timestamp": 1620581990665,
     "user": {
      "displayName": "Soumita Chowdhury",
      "photoUrl": "https://lh3.googleusercontent.com/a-/AOh14GhObdw1u3uxDno8PBnDrmkvcHccSnXmpjy2A7PQ=s64",
      "userId": "09157550983538090427"
     },
     "user_tz": -330
    },
    "id": "UmFPUx8tL0FG"
   },
   "outputs": [],
   "source": [
    "from sklearn.model_selection import train_test_split\n",
    "X_train,X_test,Y_train,Y_test=train_test_split(X,Y,test_size=0.2)"
   ]
  },
  {
   "cell_type": "markdown",
   "metadata": {
    "id": "3nAb8d6KMBKF"
   },
   "source": [
    "Step 3 Design, train, tune and test the best text classifier"
   ]
  },
  {
   "cell_type": "markdown",
   "metadata": {
    "id": "mCHxr0Yq6MxR"
   },
   "source": [
    "1. Logistic regression"
   ]
  },
  {
   "cell_type": "code",
   "execution_count": 277,
   "metadata": {
    "executionInfo": {
     "elapsed": 50587,
     "status": "ok",
     "timestamp": 1620581990665,
     "user": {
      "displayName": "Soumita Chowdhury",
      "photoUrl": "https://lh3.googleusercontent.com/a-/AOh14GhObdw1u3uxDno8PBnDrmkvcHccSnXmpjy2A7PQ=s64",
      "userId": "09157550983538090427"
     },
     "user_tz": -330
    },
    "id": "Nl7VYt0JsyZg"
   },
   "outputs": [],
   "source": [
    "from sklearn.multiclass import OneVsRestClassifier\n",
    "from sklearn.linear_model import LogisticRegression"
   ]
  },
  {
   "cell_type": "code",
   "execution_count": 278,
   "metadata": {
    "executionInfo": {
     "elapsed": 50584,
     "status": "ok",
     "timestamp": 1620581990666,
     "user": {
      "displayName": "Soumita Chowdhury",
      "photoUrl": "https://lh3.googleusercontent.com/a-/AOh14GhObdw1u3uxDno8PBnDrmkvcHccSnXmpjy2A7PQ=s64",
      "userId": "09157550983538090427"
     },
     "user_tz": -330
    },
    "id": "CK_ixY7ls8iO"
   },
   "outputs": [],
   "source": [
    "model=LogisticRegression(solver='lbfgs')"
   ]
  },
  {
   "cell_type": "code",
   "execution_count": 279,
   "metadata": {
    "executionInfo": {
     "elapsed": 50577,
     "status": "ok",
     "timestamp": 1620581990666,
     "user": {
      "displayName": "Soumita Chowdhury",
      "photoUrl": "https://lh3.googleusercontent.com/a-/AOh14GhObdw1u3uxDno8PBnDrmkvcHccSnXmpjy2A7PQ=s64",
      "userId": "09157550983538090427"
     },
     "user_tz": -330
    },
    "id": "uawFyUXEs-aW"
   },
   "outputs": [],
   "source": [
    "model=OneVsRestClassifier(model)"
   ]
  },
  {
   "cell_type": "code",
   "execution_count": 280,
   "metadata": {
    "colab": {
     "base_uri": "https://localhost:8080/"
    },
    "executionInfo": {
     "elapsed": 422934,
     "status": "ok",
     "timestamp": 1620582363027,
     "user": {
      "displayName": "Soumita Chowdhury",
      "photoUrl": "https://lh3.googleusercontent.com/a-/AOh14GhObdw1u3uxDno8PBnDrmkvcHccSnXmpjy2A7PQ=s64",
      "userId": "09157550983538090427"
     },
     "user_tz": -330
    },
    "id": "8CiPXK3GtBPy",
    "outputId": "e0ac7296-c743-4ce3-8d3e-4647b014c1bb"
   },
   "outputs": [
    {
     "data": {
      "text/plain": [
       "OneVsRestClassifier(estimator=LogisticRegression(C=1.0, class_weight=None,\n",
       "                                                 dual=False, fit_intercept=True,\n",
       "                                                 intercept_scaling=1,\n",
       "                                                 l1_ratio=None, max_iter=100,\n",
       "                                                 multi_class='auto',\n",
       "                                                 n_jobs=None, penalty='l2',\n",
       "                                                 random_state=None,\n",
       "                                                 solver='lbfgs', tol=0.0001,\n",
       "                                                 verbose=0, warm_start=False),\n",
       "                    n_jobs=None)"
      ]
     },
     "execution_count": 280,
     "metadata": {
      "tags": []
     },
     "output_type": "execute_result"
    }
   ],
   "source": [
    "model.fit(X_train,Y_train)"
   ]
  },
  {
   "cell_type": "code",
   "execution_count": 281,
   "metadata": {
    "executionInfo": {
     "elapsed": 422930,
     "status": "ok",
     "timestamp": 1620582363028,
     "user": {
      "displayName": "Soumita Chowdhury",
      "photoUrl": "https://lh3.googleusercontent.com/a-/AOh14GhObdw1u3uxDno8PBnDrmkvcHccSnXmpjy2A7PQ=s64",
      "userId": "09157550983538090427"
     },
     "user_tz": -330
    },
    "id": "fnmyQEYe4nC9"
   },
   "outputs": [],
   "source": [
    "Y_pred=model.predict(X_test)"
   ]
  },
  {
   "cell_type": "code",
   "execution_count": 282,
   "metadata": {
    "executionInfo": {
     "elapsed": 422927,
     "status": "ok",
     "timestamp": 1620582363029,
     "user": {
      "displayName": "Soumita Chowdhury",
      "photoUrl": "https://lh3.googleusercontent.com/a-/AOh14GhObdw1u3uxDno8PBnDrmkvcHccSnXmpjy2A7PQ=s64",
      "userId": "09157550983538090427"
     },
     "user_tz": -330
    },
    "id": "mQVB8uqI4w5k"
   },
   "outputs": [],
   "source": [
    "Y_pred_inversed = binarizer.inverse_transform(Y_pred)\n",
    "y_test_inversed = binarizer.inverse_transform(Y_test)"
   ]
  },
  {
   "cell_type": "markdown",
   "metadata": {
    "id": "Kypu6Cmm6Ak7"
   },
   "source": [
    "Print the true vs predicted labels for any 5 entries from the dataset."
   ]
  },
  {
   "cell_type": "code",
   "execution_count": 283,
   "metadata": {
    "colab": {
     "base_uri": "https://localhost:8080/"
    },
    "executionInfo": {
     "elapsed": 422923,
     "status": "ok",
     "timestamp": 1620582363029,
     "user": {
      "displayName": "Soumita Chowdhury",
      "photoUrl": "https://lh3.googleusercontent.com/a-/AOh14GhObdw1u3uxDno8PBnDrmkvcHccSnXmpjy2A7PQ=s64",
      "userId": "09157550983538090427"
     },
     "user_tz": -330
    },
    "id": "yT6AUhF042B_",
    "outputId": "8cc0c4ef-e019-4d46-8f03-1a5684e1ac74"
   },
   "outputs": [
    {
     "name": "stdout",
     "output_type": "stream",
     "text": [
      "Text:\t  (0, 312628)\t1\n",
      "  (0, 525350)\t1\n",
      "  (0, 611860)\t1\n",
      "  (0, 375481)\t1\n",
      "  (0, 170072)\t1\n",
      "  (0, 72612)\t1\n",
      "  (0, 562615)\t1\n",
      "  (0, 374716)\t1\n",
      "  (0, 294992)\t1\n",
      "  (0, 447643)\t1\n",
      "  (0, 314469)\t1\n",
      "  (0, 556303)\t1\n",
      "  (0, 127378)\t1\n",
      "  (0, 357996)\t1\n",
      "  (0, 431617)\t1\n",
      "  (0, 426777)\t1\n",
      "  (0, 23711)\t1\n",
      "  (0, 15856)\t1\n",
      "  (0, 171062)\t1\n",
      "  (0, 527604)\t1\n",
      "  (0, 377796)\t1\n",
      "  (0, 61125)\t1\n",
      "  (0, 166113)\t1\n",
      "  (0, 302921)\t1\n",
      "  (0, 431705)\t1\n",
      "  :\t:\n",
      "  (0, 612148)\t1\n",
      "  (0, 167243)\t1\n",
      "  (0, 166156)\t1\n",
      "  (0, 525557)\t1\n",
      "  (0, 302923)\t1\n",
      "  (0, 18515)\t1\n",
      "  (0, 378394)\t1\n",
      "  (0, 377921)\t1\n",
      "  (0, 153480)\t1\n",
      "  (0, 532672)\t1\n",
      "  (0, 61130)\t1\n",
      "  (0, 15996)\t1\n",
      "  (0, 134048)\t1\n",
      "  (0, 23730)\t1\n",
      "  (0, 72794)\t1\n",
      "  (0, 401862)\t1\n",
      "  (0, 147909)\t1\n",
      "  (0, 12621)\t1\n",
      "  (0, 489058)\t1\n",
      "  (0, 527770)\t1\n",
      "  (0, 448064)\t1\n",
      "  (0, 444983)\t1\n",
      "  (0, 128588)\t1\n",
      "  (0, 556595)\t1\n",
      "  (0, 491223)\t1\n",
      "True labels:\t35,Aries,Technology,male\n",
      "Predicted labels:\tmale\n",
      "\n",
      "\n",
      "Text:\t  (0, 312628)\t1\n",
      "  (0, 319058)\t1\n",
      "  (0, 449060)\t1\n",
      "  (0, 383735)\t1\n",
      "  (0, 541965)\t1\n",
      "  (0, 131554)\t1\n",
      "  (0, 192891)\t1\n",
      "  (0, 564667)\t1\n",
      "  (0, 567161)\t1\n",
      "  (0, 13357)\t1\n",
      "  (0, 525350)\t1\n",
      "  (0, 222683)\t1\n",
      "  (0, 51214)\t1\n",
      "  (0, 611860)\t1\n",
      "  (0, 194964)\t1\n",
      "  (0, 215891)\t1\n",
      "  (0, 170072)\t1\n",
      "  (0, 146583)\t1\n",
      "  (0, 465207)\t1\n",
      "  (0, 246950)\t1\n",
      "  (0, 198002)\t1\n",
      "  (0, 165143)\t1\n",
      "  (0, 306682)\t1\n",
      "  (0, 20393)\t1\n",
      "  (0, 640829)\t1\n",
      "  :\t:\n",
      "  (0, 60556)\t1\n",
      "  (0, 227091)\t1\n",
      "  (0, 75666)\t1\n",
      "  (0, 142804)\t1\n",
      "  (0, 287609)\t1\n",
      "  (0, 84803)\t1\n",
      "  (0, 22039)\t1\n",
      "  (0, 9312)\t1\n",
      "  (0, 479175)\t1\n",
      "  (0, 388593)\t1\n",
      "  (0, 356901)\t1\n",
      "  (0, 223377)\t1\n",
      "  (0, 287478)\t1\n",
      "  (0, 46620)\t1\n",
      "  (0, 51796)\t1\n",
      "  (0, 500737)\t1\n",
      "  (0, 226623)\t1\n",
      "  (0, 600514)\t1\n",
      "  (0, 127061)\t1\n",
      "  (0, 165430)\t1\n",
      "  (0, 320577)\t1\n",
      "  (0, 383757)\t1\n",
      "  (0, 256754)\t1\n",
      "  (0, 247643)\t1\n",
      "  (0, 542101)\t1\n",
      "True labels:\t34,Sagittarius,female,indUnk\n",
      "Predicted labels:\t34,Sagittarius,female,indUnk\n",
      "\n",
      "\n",
      "Text:\t  (0, 593438)\t1\n",
      "  (0, 227048)\t1\n",
      "  (0, 209343)\t1\n",
      "  (0, 184259)\t1\n",
      "  (0, 37086)\t1\n",
      "  (0, 594084)\t1\n",
      "  (0, 184274)\t1\n",
      "  (0, 227069)\t1\n",
      "  (0, 37088)\t1\n",
      "True labels:\t35,Aries,Technology,male\n",
      "Predicted labels:\tmale\n",
      "\n",
      "\n",
      "Text:\t  (0, 333329)\t1\n",
      "  (0, 312628)\t1\n",
      "  (0, 52528)\t1\n",
      "  (0, 420587)\t1\n",
      "  (0, 113776)\t1\n",
      "  (0, 632385)\t1\n",
      "  (0, 597026)\t1\n",
      "  (0, 229515)\t1\n",
      "  (0, 332005)\t1\n",
      "  (0, 525350)\t1\n",
      "  (0, 218079)\t1\n",
      "  (0, 586020)\t1\n",
      "  (0, 146583)\t1\n",
      "  (0, 531765)\t1\n",
      "  (0, 171746)\t1\n",
      "  (0, 434442)\t1\n",
      "  (0, 374716)\t1\n",
      "  (0, 546404)\t1\n",
      "  (0, 417568)\t1\n",
      "  (0, 154884)\t1\n",
      "  (0, 115596)\t1\n",
      "  (0, 362262)\t1\n",
      "  (0, 583217)\t1\n",
      "  (0, 171859)\t1\n",
      "  (0, 206208)\t1\n",
      "  :\t:\n",
      "  (0, 295316)\t1\n",
      "  (0, 119397)\t1\n",
      "  (0, 437100)\t1\n",
      "  (0, 32266)\t1\n",
      "  (0, 490108)\t1\n",
      "  (0, 387116)\t1\n",
      "  (0, 324979)\t1\n",
      "  (0, 309362)\t1\n",
      "  (0, 273588)\t1\n",
      "  (0, 2268)\t1\n",
      "  (0, 152891)\t1\n",
      "  (0, 158101)\t1\n",
      "  (0, 627075)\t1\n",
      "  (0, 434471)\t1\n",
      "  (0, 74572)\t1\n",
      "  (0, 531800)\t1\n",
      "  (0, 141466)\t1\n",
      "  (0, 107147)\t1\n",
      "  (0, 206369)\t1\n",
      "  (0, 172258)\t1\n",
      "  (0, 301655)\t1\n",
      "  (0, 187210)\t1\n",
      "  (0, 546748)\t1\n",
      "  (0, 299844)\t1\n",
      "  (0, 598991)\t1\n",
      "True labels:\t27,Taurus,female,indUnk\n",
      "Predicted labels:\tfemale,indUnk\n",
      "\n",
      "\n",
      "Text:\t  (0, 126639)\t1\n",
      "  (0, 555727)\t1\n",
      "  (0, 312628)\t1\n",
      "  (0, 450189)\t1\n",
      "  (0, 529247)\t1\n",
      "  (0, 229515)\t1\n",
      "  (0, 403052)\t1\n",
      "  (0, 326192)\t1\n",
      "  (0, 231790)\t1\n",
      "  (0, 372192)\t1\n",
      "  (0, 50417)\t1\n",
      "  (0, 156057)\t1\n",
      "  (0, 390349)\t1\n",
      "  (0, 82168)\t1\n",
      "  (0, 374716)\t1\n",
      "  (0, 310781)\t1\n",
      "  (0, 558082)\t1\n",
      "  (0, 535731)\t1\n",
      "  (0, 219524)\t1\n",
      "  (0, 343748)\t1\n",
      "  (0, 616967)\t1\n",
      "  (0, 381629)\t1\n",
      "  (0, 480939)\t1\n",
      "  (0, 408245)\t1\n",
      "  (0, 206208)\t1\n",
      "  :\t:\n",
      "  (0, 536131)\t1\n",
      "  (0, 517175)\t1\n",
      "  (0, 144293)\t1\n",
      "  (0, 267953)\t1\n",
      "  (0, 568919)\t1\n",
      "  (0, 375333)\t1\n",
      "  (0, 548338)\t1\n",
      "  (0, 638166)\t1\n",
      "  (0, 372351)\t1\n",
      "  (0, 126750)\t1\n",
      "  (0, 387947)\t1\n",
      "  (0, 451121)\t1\n",
      "  (0, 498649)\t1\n",
      "  (0, 642310)\t1\n",
      "  (0, 126820)\t1\n",
      "  (0, 642342)\t1\n",
      "  (0, 558500)\t1\n",
      "  (0, 293094)\t1\n",
      "  (0, 122229)\t1\n",
      "  (0, 485598)\t1\n",
      "  (0, 160311)\t1\n",
      "  (0, 253844)\t1\n",
      "  (0, 470073)\t1\n",
      "  (0, 464960)\t1\n",
      "  (0, 248641)\t1\n",
      "True labels:\t24,Engineering,Libra,male\n",
      "Predicted labels:\tfemale\n",
      "\n",
      "\n"
     ]
    }
   ],
   "source": [
    "for i in range(5):\n",
    "    print('Text:\\t{}\\nTrue labels:\\t{}\\nPredicted labels:\\t{}\\n\\n'.format(\n",
    "        X_test[i],\n",
    "        ','.join(y_test_inversed[i]),\n",
    "        ','.join(Y_pred_inversed[i])\n",
    "    ))"
   ]
  },
  {
   "cell_type": "markdown",
   "metadata": {
    "id": "JDbfag0u6Vt7"
   },
   "source": [
    "2. Naive Bayes Classifier"
   ]
  },
  {
   "cell_type": "code",
   "execution_count": 284,
   "metadata": {
    "executionInfo": {
     "elapsed": 422919,
     "status": "ok",
     "timestamp": 1620582363029,
     "user": {
      "displayName": "Soumita Chowdhury",
      "photoUrl": "https://lh3.googleusercontent.com/a-/AOh14GhObdw1u3uxDno8PBnDrmkvcHccSnXmpjy2A7PQ=s64",
      "userId": "09157550983538090427"
     },
     "user_tz": -330
    },
    "id": "VU5QEjAG7G2W"
   },
   "outputs": [],
   "source": [
    "from sklearn.model_selection import train_test_split\n",
    "X_train_n,X_test_n,Y_train_n,Y_test_n=train_test_split(X,Y,test_size=0.2)"
   ]
  },
  {
   "cell_type": "code",
   "execution_count": 285,
   "metadata": {
    "colab": {
     "base_uri": "https://localhost:8080/"
    },
    "executionInfo": {
     "elapsed": 422916,
     "status": "ok",
     "timestamp": 1620582363030,
     "user": {
      "displayName": "Soumita Chowdhury",
      "photoUrl": "https://lh3.googleusercontent.com/a-/AOh14GhObdw1u3uxDno8PBnDrmkvcHccSnXmpjy2A7PQ=s64",
      "userId": "09157550983538090427"
     },
     "user_tz": -330
    },
    "id": "-VlEnrPU-rCz",
    "outputId": "ff2bada5-60ed-4cb3-a6f6-9cef811e624c"
   },
   "outputs": [
    {
     "data": {
      "text/plain": [
       "(8000, 643302)"
      ]
     },
     "execution_count": 285,
     "metadata": {
      "tags": []
     },
     "output_type": "execute_result"
    }
   ],
   "source": [
    "X_train_n.shape"
   ]
  },
  {
   "cell_type": "code",
   "execution_count": 286,
   "metadata": {
    "colab": {
     "base_uri": "https://localhost:8080/"
    },
    "executionInfo": {
     "elapsed": 422911,
     "status": "ok",
     "timestamp": 1620582363030,
     "user": {
      "displayName": "Soumita Chowdhury",
      "photoUrl": "https://lh3.googleusercontent.com/a-/AOh14GhObdw1u3uxDno8PBnDrmkvcHccSnXmpjy2A7PQ=s64",
      "userId": "09157550983538090427"
     },
     "user_tz": -330
    },
    "id": "ZKT-tC4O-6lh",
    "outputId": "5d18226b-3570-44dc-d924-a2ac5b40bde2"
   },
   "outputs": [
    {
     "data": {
      "text/plain": [
       "(8000, 64)"
      ]
     },
     "execution_count": 286,
     "metadata": {
      "tags": []
     },
     "output_type": "execute_result"
    }
   ],
   "source": [
    "Y_train.shape"
   ]
  },
  {
   "cell_type": "code",
   "execution_count": 287,
   "metadata": {
    "colab": {
     "base_uri": "https://localhost:8080/"
    },
    "executionInfo": {
     "elapsed": 422908,
     "status": "ok",
     "timestamp": 1620582363031,
     "user": {
      "displayName": "Soumita Chowdhury",
      "photoUrl": "https://lh3.googleusercontent.com/a-/AOh14GhObdw1u3uxDno8PBnDrmkvcHccSnXmpjy2A7PQ=s64",
      "userId": "09157550983538090427"
     },
     "user_tz": -330
    },
    "id": "lN7W3jMT-2rm",
    "outputId": "9c5858a3-dd2a-4104-9e2c-c6422e60e659"
   },
   "outputs": [
    {
     "data": {
      "text/plain": [
       "(8000, 64)"
      ]
     },
     "execution_count": 287,
     "metadata": {
      "tags": []
     },
     "output_type": "execute_result"
    }
   ],
   "source": [
    "Y_train_n.shape"
   ]
  },
  {
   "cell_type": "code",
   "execution_count": 288,
   "metadata": {
    "colab": {
     "base_uri": "https://localhost:8080/"
    },
    "executionInfo": {
     "elapsed": 422904,
     "status": "ok",
     "timestamp": 1620582363031,
     "user": {
      "displayName": "Soumita Chowdhury",
      "photoUrl": "https://lh3.googleusercontent.com/a-/AOh14GhObdw1u3uxDno8PBnDrmkvcHccSnXmpjy2A7PQ=s64",
      "userId": "09157550983538090427"
     },
     "user_tz": -330
    },
    "id": "bCa6RiYq7Zg4",
    "outputId": "210da136-9517-41a2-8cb1-e669b5e37fde"
   },
   "outputs": [
    {
     "data": {
      "text/plain": [
       "KNeighborsClassifier(algorithm='auto', leaf_size=30, metric='minkowski',\n",
       "                     metric_params=None, n_jobs=None, n_neighbors=5, p=2,\n",
       "                     weights='distance')"
      ]
     },
     "execution_count": 288,
     "metadata": {
      "tags": []
     },
     "output_type": "execute_result"
    }
   ],
   "source": [
    "from sklearn.neighbors import KNeighborsClassifier\n",
    "knn_model = KNeighborsClassifier(n_neighbors=5, weights='distance')\n",
    "knn_model.fit(X_train_n, Y_train_n)"
   ]
  },
  {
   "cell_type": "code",
   "execution_count": 289,
   "metadata": {
    "executionInfo": {
     "elapsed": 423627,
     "status": "ok",
     "timestamp": 1620582363758,
     "user": {
      "displayName": "Soumita Chowdhury",
      "photoUrl": "https://lh3.googleusercontent.com/a-/AOh14GhObdw1u3uxDno8PBnDrmkvcHccSnXmpjy2A7PQ=s64",
      "userId": "09157550983538090427"
     },
     "user_tz": -330
    },
    "id": "WRJjXUGM_apu"
   },
   "outputs": [],
   "source": [
    "Y_pred_n=knn_model.predict(X_test_n)"
   ]
  },
  {
   "cell_type": "code",
   "execution_count": 290,
   "metadata": {
    "executionInfo": {
     "elapsed": 423622,
     "status": "ok",
     "timestamp": 1620582363759,
     "user": {
      "displayName": "Soumita Chowdhury",
      "photoUrl": "https://lh3.googleusercontent.com/a-/AOh14GhObdw1u3uxDno8PBnDrmkvcHccSnXmpjy2A7PQ=s64",
      "userId": "09157550983538090427"
     },
     "user_tz": -330
    },
    "id": "8DmZzyEs_trM"
   },
   "outputs": [],
   "source": [
    "Y_pred_n_inversed = binarizer.inverse_transform(Y_pred_n)\n",
    "y_test_n_inversed = binarizer.inverse_transform(Y_test_n)"
   ]
  },
  {
   "cell_type": "code",
   "execution_count": 291,
   "metadata": {
    "colab": {
     "base_uri": "https://localhost:8080/"
    },
    "executionInfo": {
     "elapsed": 423618,
     "status": "ok",
     "timestamp": 1620582363759,
     "user": {
      "displayName": "Soumita Chowdhury",
      "photoUrl": "https://lh3.googleusercontent.com/a-/AOh14GhObdw1u3uxDno8PBnDrmkvcHccSnXmpjy2A7PQ=s64",
      "userId": "09157550983538090427"
     },
     "user_tz": -330
    },
    "id": "2GD3PVeR_0iT",
    "outputId": "4a6e7fa3-6958-4457-a3b3-b2c023e70958"
   },
   "outputs": [
    {
     "name": "stdout",
     "output_type": "stream",
     "text": [
      "Text:\t  (0, 312628)\t1\n",
      "  (0, 525350)\t1\n",
      "  (0, 611860)\t1\n",
      "  (0, 375481)\t1\n",
      "  (0, 170072)\t1\n",
      "  (0, 72612)\t1\n",
      "  (0, 562615)\t1\n",
      "  (0, 374716)\t1\n",
      "  (0, 294992)\t1\n",
      "  (0, 447643)\t1\n",
      "  (0, 314469)\t1\n",
      "  (0, 556303)\t1\n",
      "  (0, 127378)\t1\n",
      "  (0, 357996)\t1\n",
      "  (0, 431617)\t1\n",
      "  (0, 426777)\t1\n",
      "  (0, 23711)\t1\n",
      "  (0, 15856)\t1\n",
      "  (0, 171062)\t1\n",
      "  (0, 527604)\t1\n",
      "  (0, 377796)\t1\n",
      "  (0, 61125)\t1\n",
      "  (0, 166113)\t1\n",
      "  (0, 302921)\t1\n",
      "  (0, 431705)\t1\n",
      "  :\t:\n",
      "  (0, 612148)\t1\n",
      "  (0, 167243)\t1\n",
      "  (0, 166156)\t1\n",
      "  (0, 525557)\t1\n",
      "  (0, 302923)\t1\n",
      "  (0, 18515)\t1\n",
      "  (0, 378394)\t1\n",
      "  (0, 377921)\t1\n",
      "  (0, 153480)\t1\n",
      "  (0, 532672)\t1\n",
      "  (0, 61130)\t1\n",
      "  (0, 15996)\t1\n",
      "  (0, 134048)\t1\n",
      "  (0, 23730)\t1\n",
      "  (0, 72794)\t1\n",
      "  (0, 401862)\t1\n",
      "  (0, 147909)\t1\n",
      "  (0, 12621)\t1\n",
      "  (0, 489058)\t1\n",
      "  (0, 527770)\t1\n",
      "  (0, 448064)\t1\n",
      "  (0, 444983)\t1\n",
      "  (0, 128588)\t1\n",
      "  (0, 556595)\t1\n",
      "  (0, 491223)\t1\n",
      "True labels:\t24,Capricorn,Education,female\n",
      "Predicted labels:\tAries,male\n",
      "\n",
      "\n",
      "Text:\t  (0, 312628)\t1\n",
      "  (0, 319058)\t1\n",
      "  (0, 449060)\t1\n",
      "  (0, 383735)\t1\n",
      "  (0, 541965)\t1\n",
      "  (0, 131554)\t1\n",
      "  (0, 192891)\t1\n",
      "  (0, 564667)\t1\n",
      "  (0, 567161)\t1\n",
      "  (0, 13357)\t1\n",
      "  (0, 525350)\t1\n",
      "  (0, 222683)\t1\n",
      "  (0, 51214)\t1\n",
      "  (0, 611860)\t1\n",
      "  (0, 194964)\t1\n",
      "  (0, 215891)\t1\n",
      "  (0, 170072)\t1\n",
      "  (0, 146583)\t1\n",
      "  (0, 465207)\t1\n",
      "  (0, 246950)\t1\n",
      "  (0, 198002)\t1\n",
      "  (0, 165143)\t1\n",
      "  (0, 306682)\t1\n",
      "  (0, 20393)\t1\n",
      "  (0, 640829)\t1\n",
      "  :\t:\n",
      "  (0, 60556)\t1\n",
      "  (0, 227091)\t1\n",
      "  (0, 75666)\t1\n",
      "  (0, 142804)\t1\n",
      "  (0, 287609)\t1\n",
      "  (0, 84803)\t1\n",
      "  (0, 22039)\t1\n",
      "  (0, 9312)\t1\n",
      "  (0, 479175)\t1\n",
      "  (0, 388593)\t1\n",
      "  (0, 356901)\t1\n",
      "  (0, 223377)\t1\n",
      "  (0, 287478)\t1\n",
      "  (0, 46620)\t1\n",
      "  (0, 51796)\t1\n",
      "  (0, 500737)\t1\n",
      "  (0, 226623)\t1\n",
      "  (0, 600514)\t1\n",
      "  (0, 127061)\t1\n",
      "  (0, 165430)\t1\n",
      "  (0, 320577)\t1\n",
      "  (0, 383757)\t1\n",
      "  (0, 256754)\t1\n",
      "  (0, 247643)\t1\n",
      "  (0, 542101)\t1\n",
      "True labels:\t35,Aries,Technology,male\n",
      "Predicted labels:\tAries,male\n",
      "\n",
      "\n",
      "Text:\t  (0, 593438)\t1\n",
      "  (0, 227048)\t1\n",
      "  (0, 209343)\t1\n",
      "  (0, 184259)\t1\n",
      "  (0, 37086)\t1\n",
      "  (0, 594084)\t1\n",
      "  (0, 184274)\t1\n",
      "  (0, 227069)\t1\n",
      "  (0, 37088)\t1\n",
      "True labels:\t17,Capricorn,Student,female\n",
      "Predicted labels:\t36,Aries,Fashion,male\n",
      "\n",
      "\n",
      "Text:\t  (0, 333329)\t1\n",
      "  (0, 312628)\t1\n",
      "  (0, 52528)\t1\n",
      "  (0, 420587)\t1\n",
      "  (0, 113776)\t1\n",
      "  (0, 632385)\t1\n",
      "  (0, 597026)\t1\n",
      "  (0, 229515)\t1\n",
      "  (0, 332005)\t1\n",
      "  (0, 525350)\t1\n",
      "  (0, 218079)\t1\n",
      "  (0, 586020)\t1\n",
      "  (0, 146583)\t1\n",
      "  (0, 531765)\t1\n",
      "  (0, 171746)\t1\n",
      "  (0, 434442)\t1\n",
      "  (0, 374716)\t1\n",
      "  (0, 546404)\t1\n",
      "  (0, 417568)\t1\n",
      "  (0, 154884)\t1\n",
      "  (0, 115596)\t1\n",
      "  (0, 362262)\t1\n",
      "  (0, 583217)\t1\n",
      "  (0, 171859)\t1\n",
      "  (0, 206208)\t1\n",
      "  :\t:\n",
      "  (0, 295316)\t1\n",
      "  (0, 119397)\t1\n",
      "  (0, 437100)\t1\n",
      "  (0, 32266)\t1\n",
      "  (0, 490108)\t1\n",
      "  (0, 387116)\t1\n",
      "  (0, 324979)\t1\n",
      "  (0, 309362)\t1\n",
      "  (0, 273588)\t1\n",
      "  (0, 2268)\t1\n",
      "  (0, 152891)\t1\n",
      "  (0, 158101)\t1\n",
      "  (0, 627075)\t1\n",
      "  (0, 434471)\t1\n",
      "  (0, 74572)\t1\n",
      "  (0, 531800)\t1\n",
      "  (0, 141466)\t1\n",
      "  (0, 107147)\t1\n",
      "  (0, 206369)\t1\n",
      "  (0, 172258)\t1\n",
      "  (0, 301655)\t1\n",
      "  (0, 187210)\t1\n",
      "  (0, 546748)\t1\n",
      "  (0, 299844)\t1\n",
      "  (0, 598991)\t1\n",
      "True labels:\t35,Aries,Technology,male\n",
      "Predicted labels:\tmale\n",
      "\n",
      "\n",
      "Text:\t  (0, 126639)\t1\n",
      "  (0, 555727)\t1\n",
      "  (0, 312628)\t1\n",
      "  (0, 450189)\t1\n",
      "  (0, 529247)\t1\n",
      "  (0, 229515)\t1\n",
      "  (0, 403052)\t1\n",
      "  (0, 326192)\t1\n",
      "  (0, 231790)\t1\n",
      "  (0, 372192)\t1\n",
      "  (0, 50417)\t1\n",
      "  (0, 156057)\t1\n",
      "  (0, 390349)\t1\n",
      "  (0, 82168)\t1\n",
      "  (0, 374716)\t1\n",
      "  (0, 310781)\t1\n",
      "  (0, 558082)\t1\n",
      "  (0, 535731)\t1\n",
      "  (0, 219524)\t1\n",
      "  (0, 343748)\t1\n",
      "  (0, 616967)\t1\n",
      "  (0, 381629)\t1\n",
      "  (0, 480939)\t1\n",
      "  (0, 408245)\t1\n",
      "  (0, 206208)\t1\n",
      "  :\t:\n",
      "  (0, 536131)\t1\n",
      "  (0, 517175)\t1\n",
      "  (0, 144293)\t1\n",
      "  (0, 267953)\t1\n",
      "  (0, 568919)\t1\n",
      "  (0, 375333)\t1\n",
      "  (0, 548338)\t1\n",
      "  (0, 638166)\t1\n",
      "  (0, 372351)\t1\n",
      "  (0, 126750)\t1\n",
      "  (0, 387947)\t1\n",
      "  (0, 451121)\t1\n",
      "  (0, 498649)\t1\n",
      "  (0, 642310)\t1\n",
      "  (0, 126820)\t1\n",
      "  (0, 642342)\t1\n",
      "  (0, 558500)\t1\n",
      "  (0, 293094)\t1\n",
      "  (0, 122229)\t1\n",
      "  (0, 485598)\t1\n",
      "  (0, 160311)\t1\n",
      "  (0, 253844)\t1\n",
      "  (0, 470073)\t1\n",
      "  (0, 464960)\t1\n",
      "  (0, 248641)\t1\n",
      "True labels:\t23,Sagittarius,Technology,male\n",
      "Predicted labels:\tScorpio,male\n",
      "\n",
      "\n"
     ]
    }
   ],
   "source": [
    "for i in range(5):\n",
    "    print('Text:\\t{}\\nTrue labels:\\t{}\\nPredicted labels:\\t{}\\n\\n'.format(\n",
    "        X_test[i],\n",
    "        ','.join(y_test_n_inversed[i]),\n",
    "        ','.join(Y_pred_n_inversed[i])\n",
    "    ))"
   ]
  },
  {
   "cell_type": "code",
   "execution_count": 292,
   "metadata": {
    "executionInfo": {
     "elapsed": 423615,
     "status": "ok",
     "timestamp": 1620582363760,
     "user": {
      "displayName": "Soumita Chowdhury",
      "photoUrl": "https://lh3.googleusercontent.com/a-/AOh14GhObdw1u3uxDno8PBnDrmkvcHccSnXmpjy2A7PQ=s64",
      "userId": "09157550983538090427"
     },
     "user_tz": -330
    },
    "id": "nVZM3mc05Fin"
   },
   "outputs": [],
   "source": [
    "from sklearn.metrics import accuracy_score\n",
    "from sklearn.metrics import f1_score\n",
    "from sklearn.metrics import average_precision_score\n",
    "from sklearn.metrics import recall_score\n",
    "\n",
    "def print_evaluation_scores(Ytest, Ypred):\n",
    "    print('Accuracy score: ', accuracy_score(Ytest, Ypred))\n",
    "    print('F1 score: ', f1_score(Ytest, Ypred, average='micro'))\n",
    "    print('Average precision score: ', average_precision_score(Ytest, Ypred, average='micro'))\n",
    "    print('Average recall score: ', recall_score(Ytest, Ypred, average='micro'))"
   ]
  },
  {
   "cell_type": "code",
   "execution_count": 293,
   "metadata": {
    "colab": {
     "base_uri": "https://localhost:8080/"
    },
    "executionInfo": {
     "elapsed": 423611,
     "status": "ok",
     "timestamp": 1620582363760,
     "user": {
      "displayName": "Soumita Chowdhury",
      "photoUrl": "https://lh3.googleusercontent.com/a-/AOh14GhObdw1u3uxDno8PBnDrmkvcHccSnXmpjy2A7PQ=s64",
      "userId": "09157550983538090427"
     },
     "user_tz": -330
    },
    "id": "9ReH5aAw5LOA",
    "outputId": "72502a62-19b8-4eb5-e66f-afc41998b97b"
   },
   "outputs": [
    {
     "name": "stdout",
     "output_type": "stream",
     "text": [
      "Accuracy score:  0.3115\n",
      "F1 score:  0.6348340154615735\n",
      "Average precision score:  0.451887141413169\n",
      "Average recall score:  0.5235\n"
     ]
    }
   ],
   "source": [
    "print_evaluation_scores(Y_test, Y_pred)"
   ]
  },
  {
   "cell_type": "code",
   "execution_count": 294,
   "metadata": {
    "colab": {
     "base_uri": "https://localhost:8080/"
    },
    "executionInfo": {
     "elapsed": 423606,
     "status": "ok",
     "timestamp": 1620582363761,
     "user": {
      "displayName": "Soumita Chowdhury",
      "photoUrl": "https://lh3.googleusercontent.com/a-/AOh14GhObdw1u3uxDno8PBnDrmkvcHccSnXmpjy2A7PQ=s64",
      "userId": "09157550983538090427"
     },
     "user_tz": -330
    },
    "id": "8mEKL-o2ALFT",
    "outputId": "a4fff424-3d7e-4871-9632-caa05fe4a7d6"
   },
   "outputs": [
    {
     "name": "stdout",
     "output_type": "stream",
     "text": [
      "Accuracy score:  0.051\n",
      "F1 score:  0.2885366047956664\n",
      "Average precision score:  0.138394418858445\n",
      "Average recall score:  0.226375\n"
     ]
    }
   ],
   "source": [
    "print_evaluation_scores(Y_test_n, Y_pred_n)"
   ]
  },
  {
   "cell_type": "markdown",
   "metadata": {
    "id": "GTeXevfuAPWg"
   },
   "source": [
    "# **Conclusion**\n",
    "We have used two classifiers Logistic regression and KNN Classifier. Comparing the accuracies of both, we can clearly see that logistic regression classifier has a much better accuracy of 32% than that of  KNN of only 5%."
   ]
  },
  {
   "cell_type": "markdown",
   "metadata": {
    "id": "6nixW3W8CjFN"
   },
   "source": [
    "# Project 2"
   ]
  },
  {
   "cell_type": "markdown",
   "metadata": {
    "id": "bskEreNMCzfO"
   },
   "source": [
    "DOMAIN: Customer support\n",
    "\n",
    "CONTEXT: Great Learning has a an academic support department which receives numerous support requests every day throughout the\n",
    "year. Teams are spread across geographies and try to provide support round the year. Sometimes there are circumstances where due to\n",
    "heavy workload certain request resolutions are delayed, impacting company’s business. Some of the requests are very generic where a\n",
    "proper resolution procedure delivered to the user can solve the problem. Company is looking forward to design an automation which can\n",
    "interact with the user, understand the problem and display the resolution procedure [ if found as a generic request ] or redirect the request\n",
    "to an actual human support executive if the request is complex or not in it’s database.\n",
    "\n",
    "DATA DESCRIPTION: A sample corpus is attached for your reference. Please enhance/add more data to the corpus using your linguistics\n",
    "skills.\n",
    "\n",
    "PROJECT OBJECTIVE: Design a python based interactive semi - rule based chatbot which can do the following:\n",
    "1. Start chat session with greetings and ask what the user is looking for.\n",
    "2. Accept dynamic text based questions from the user. Reply back with relevant answer from the designed corpus.\n",
    "3. End the chat session only if the user requests to end else ask what the user is looking for. Loop continues till the user asks to end it.\n",
    "Please use the sample chatbot demo video for reference.\n",
    "\n",
    "EVALUATION: GL evaluator will use linguistics to twist and turn sentences to ask questions on the topics described in DATA DESCRIPTION\n",
    "and check if the bot is giving relevant replies."
   ]
  },
  {
   "cell_type": "code",
   "execution_count": 295,
   "metadata": {
    "colab": {
     "base_uri": "https://localhost:8080/"
    },
    "executionInfo": {
     "elapsed": 423602,
     "status": "ok",
     "timestamp": 1620582363761,
     "user": {
      "displayName": "Soumita Chowdhury",
      "photoUrl": "https://lh3.googleusercontent.com/a-/AOh14GhObdw1u3uxDno8PBnDrmkvcHccSnXmpjy2A7PQ=s64",
      "userId": "09157550983538090427"
     },
     "user_tz": -330
    },
    "id": "5tYLctsKCmLv",
    "outputId": "67068b8b-c05b-4758-efe3-26334863e268"
   },
   "outputs": [
    {
     "name": "stdout",
     "output_type": "stream",
     "text": [
      "[nltk_data] Downloading package punkt to /root/nltk_data...\n",
      "[nltk_data]   Package punkt is already up-to-date!\n",
      "[nltk_data] Downloading package wordnet to /root/nltk_data...\n",
      "[nltk_data]   Package wordnet is already up-to-date!\n"
     ]
    }
   ],
   "source": [
    "import nltk\n",
    "import random\n",
    "import string\n",
    "import re, string, unicodedata\n",
    "from nltk.corpus import wordnet as wn\n",
    "from nltk.stem.wordnet import WordNetLemmatizer\n",
    "from collections import defaultdict\n",
    "import warnings\n",
    "warnings.filterwarnings(\"ignore\")\n",
    "nltk.download('punkt') \n",
    "nltk.download('wordnet')\n",
    "from sklearn.feature_extraction.text import TfidfVectorizer\n",
    "from sklearn.metrics.pairwise import cosine_similarity, linear_kernel"
   ]
  },
  {
   "cell_type": "code",
   "execution_count": 296,
   "metadata": {
    "executionInfo": {
     "elapsed": 423596,
     "status": "ok",
     "timestamp": 1620582363762,
     "user": {
      "displayName": "Soumita Chowdhury",
      "photoUrl": "https://lh3.googleusercontent.com/a-/AOh14GhObdw1u3uxDno8PBnDrmkvcHccSnXmpjy2A7PQ=s64",
      "userId": "09157550983538090427"
     },
     "user_tz": -330
    },
    "id": "dRtmy2zSFmt7"
   },
   "outputs": [],
   "source": [
    "import json\n",
    "with open('/content/gdrive/MyDrive/Colab Notebooks/NLP/GL Bot.json') as file:\n",
    "    bot_data = json.load(file)"
   ]
  },
  {
   "cell_type": "code",
   "execution_count": 297,
   "metadata": {
    "executionInfo": {
     "elapsed": 423591,
     "status": "ok",
     "timestamp": 1620582363762,
     "user": {
      "displayName": "Soumita Chowdhury",
      "photoUrl": "https://lh3.googleusercontent.com/a-/AOh14GhObdw1u3uxDno8PBnDrmkvcHccSnXmpjy2A7PQ=s64",
      "userId": "09157550983538090427"
     },
     "user_tz": -330
    },
    "id": "V1WNmLl0Gfsk"
   },
   "outputs": [],
   "source": [
    "import nltk\n",
    "from nltk.stem import WordNetLemmatizer\n",
    "lemmatizer = WordNetLemmatizer()\n",
    "import json\n",
    "import pickle\n",
    "\n",
    "import numpy as np\n",
    "from keras.models import Sequential\n",
    "from keras.layers import Dense, Activation, Dropout\n",
    "from keras.optimizers import SGD\n",
    "import random\n",
    "\n",
    "words=[]\n",
    "classes = []\n",
    "documents = []\n",
    "ignore_words = ['?', '!']\n",
    "with open('/content/gdrive/MyDrive/Colab Notebooks/NLP/GL Bot.json') as file:\n",
    "    bot_data = json.load(file)"
   ]
  },
  {
   "cell_type": "markdown",
   "metadata": {
    "id": "kzMJDdqjGuS-"
   },
   "source": [
    "Preprocess data"
   ]
  },
  {
   "cell_type": "markdown",
   "metadata": {
    "id": "zdUFvdfHHETd"
   },
   "source": [
    "Here we iterate through the patterns and tokenize the sentence using nltk.word_tokenize() function and append each word in the words list. We also create a list of classes for our tags."
   ]
  },
  {
   "cell_type": "code",
   "execution_count": 298,
   "metadata": {
    "executionInfo": {
     "elapsed": 423588,
     "status": "ok",
     "timestamp": 1620582363763,
     "user": {
      "displayName": "Soumita Chowdhury",
      "photoUrl": "https://lh3.googleusercontent.com/a-/AOh14GhObdw1u3uxDno8PBnDrmkvcHccSnXmpjy2A7PQ=s64",
      "userId": "09157550983538090427"
     },
     "user_tz": -330
    },
    "id": "zpsV91tfGsKz"
   },
   "outputs": [],
   "source": [
    "for intent in bot_data['intents']:\n",
    "    for pattern in intent['patterns']:\n",
    "\n",
    "        #tokenize each word\n",
    "        w = nltk.word_tokenize(pattern)\n",
    "        words.extend(w)\n",
    "        #add documents in the corpus\n",
    "        documents.append((w, intent['tag']))\n",
    "\n",
    "        # add to our classes list\n",
    "        if intent['tag'] not in classes:\n",
    "            classes.append(intent['tag'])"
   ]
  },
  {
   "cell_type": "markdown",
   "metadata": {
    "id": "lzi6PSqsHKxg"
   },
   "source": [
    "Now we will lemmatize each word and remove duplicate words from the list."
   ]
  },
  {
   "cell_type": "code",
   "execution_count": 299,
   "metadata": {
    "colab": {
     "base_uri": "https://localhost:8080/"
    },
    "executionInfo": {
     "elapsed": 423584,
     "status": "ok",
     "timestamp": 1620582363763,
     "user": {
      "displayName": "Soumita Chowdhury",
      "photoUrl": "https://lh3.googleusercontent.com/a-/AOh14GhObdw1u3uxDno8PBnDrmkvcHccSnXmpjy2A7PQ=s64",
      "userId": "09157550983538090427"
     },
     "user_tz": -330
    },
    "id": "wdO3flbVHIL1",
    "outputId": "82bde377-371f-44af-e614-0276e872bee3"
   },
   "outputs": [
    {
     "name": "stdout",
     "output_type": "stream",
     "text": [
      "128 documents\n",
      "8 classes ['Bot', 'Exit', 'Intro', 'NN', 'Olympus', 'Profane', 'SL', 'Ticket']\n",
      "158 unique lemmatized words ['a', 'able', 'access', 'activation', 'ada', 'adam', 'aifl', 'aiml', 'am', 'an', 'ann', 'anyone', 'are', 'artificial', 'backward', 'bad', 'bagging', 'batch', 'bayes', 'belong', 'best', 'blended', 'bloody', 'boosting', 'bot', 'buddy', 'classification', 'contact', 'create', 'cross', 'cya', 'day', 'deep', 'did', 'diffult', 'do', 'ensemble', 'epoch', 'explain', 'first', 'for', 'forest', 'forward', 'from', 'function', 'good', 'goodbye', 'gradient', 'great', 'hate', 'have', 'hell', 'hello', 'help', 'helped', 'hey', 'hi', 'hidden', 'hour', 'how', 'hyper', 'i', 'imputer', 'in', 'intelligence', 'is', 'jerk', 'joke', 'knn', 'later', 'layer', 'learner', 'learning', 'leaving', 'link', 'listen', 'logistic', 'lot', 'machine', 'me', 'ml', 'my', 'naive', 'name', 'nb', 'net', 'network', 'neural', 'no', 'not', 'of', 'olympus', 'olypus', 'on', 'online', 'operation', 'opertions', 'otimizer', 'parameter', 'piece', 'please', 'pm', 'problem', 'propagation', 'random', 'regression', 'relu', 'screw', 'see', 'sgd', 'shit', 'sigmoid', 'sl', 'smart', 'softmax', 'solution', 'solved', 'stupid', 'supervised', 'svm', 'talking', 'teach', 'techb=niques', 'technique', 'thank', 'thanks', 'the', 'there', 'think', 'ticket', 'time', 'to', 'ton', 'too', 'tool', 'unable', 'understand', 'up', 'use', 'useless', 'validation', 'very', 'visible', 'wasted', 'weight', 'what', 'whats', 'when', 'who', 'whom', 'window', 'with', 'work', 'working', 'ya', 'yo', 'you', 'your']\n"
     ]
    }
   ],
   "source": [
    "# lemmatize, lower each word and remove duplicates\n",
    "words = [lemmatizer.lemmatize(w.lower()) for w in words if w not in ignore_words]\n",
    "words = sorted(list(set(words)))\n",
    "# sort classes\n",
    "classes = sorted(list(set(classes)))\n",
    "# documents = combination between patterns and intents\n",
    "print (len(documents), \"documents\")\n",
    "# classes = intents\n",
    "print (len(classes), \"classes\", classes)\n",
    "# words = all words, vocabulary\n",
    "print (len(words), \"unique lemmatized words\", words)\n",
    "\n",
    "pickle.dump(words,open('words.pkl','wb'))\n",
    "pickle.dump(classes,open('classes.pkl','wb'))"
   ]
  },
  {
   "cell_type": "markdown",
   "metadata": {
    "id": "TVNyiw-bHQQP"
   },
   "source": [
    "We have created pickle dumps for words and classes for this data"
   ]
  },
  {
   "cell_type": "markdown",
   "metadata": {
    "id": "008aIbKwHYJ2"
   },
   "source": [
    "Create train and test data"
   ]
  },
  {
   "cell_type": "markdown",
   "metadata": {
    "id": "MQ9E_ulIHoaO"
   },
   "source": [
    "Here, we will create the training data in which we will provide the input and the output. Our input will be the pattern and output will be the class our input pattern belongs to. We will convert text into numbers so that the computer can understand."
   ]
  },
  {
   "cell_type": "code",
   "execution_count": 300,
   "metadata": {
    "colab": {
     "base_uri": "https://localhost:8080/"
    },
    "executionInfo": {
     "elapsed": 423578,
     "status": "ok",
     "timestamp": 1620582363764,
     "user": {
      "displayName": "Soumita Chowdhury",
      "photoUrl": "https://lh3.googleusercontent.com/a-/AOh14GhObdw1u3uxDno8PBnDrmkvcHccSnXmpjy2A7PQ=s64",
      "userId": "09157550983538090427"
     },
     "user_tz": -330
    },
    "id": "wW5inIO4HcTz",
    "outputId": "f72fd1b3-fb15-48fd-bcfc-d64744c60602"
   },
   "outputs": [
    {
     "name": "stdout",
     "output_type": "stream",
     "text": [
      "Training data created\n"
     ]
    }
   ],
   "source": [
    "# create our training data\n",
    "training = []\n",
    "# create an empty array for our output\n",
    "output_empty = [0] * len(classes)\n",
    "# training set, bag of words for each sentence\n",
    "for doc in documents:\n",
    "    # initialize our bag of words\n",
    "    bag = []\n",
    "    # list of tokenized words for the pattern\n",
    "    pattern_words = doc[0]\n",
    "    # lemmatize each word - create base word, in attempt to represent related words\n",
    "    pattern_words = [lemmatizer.lemmatize(word.lower()) for word in pattern_words]\n",
    "    # create our bag of words array with 1, if word match found in current pattern\n",
    "    for w in words:\n",
    "        bag.append(1) if w in pattern_words else bag.append(0)\n",
    "\n",
    "    # output is a '0' for each tag and '1' for current tag (for each pattern)\n",
    "    output_row = list(output_empty)\n",
    "    output_row[classes.index(doc[1])] = 1\n",
    "\n",
    "    training.append([bag, output_row])\n",
    "# shuffle our features and turn into np.array\n",
    "random.shuffle(training)\n",
    "training = np.array(training)\n",
    "# create train and test lists. X - patterns, Y - intents\n",
    "train_x = list(training[:,0])\n",
    "train_y = list(training[:,1])\n",
    "print(\"Training data created\")"
   ]
  },
  {
   "cell_type": "markdown",
   "metadata": {
    "id": "ePRug4izH0cB"
   },
   "source": [
    "Let us now build the neural network for the chatbot"
   ]
  },
  {
   "cell_type": "code",
   "execution_count": 301,
   "metadata": {
    "colab": {
     "base_uri": "https://localhost:8080/"
    },
    "executionInfo": {
     "elapsed": 438649,
     "status": "ok",
     "timestamp": 1620582378843,
     "user": {
      "displayName": "Soumita Chowdhury",
      "photoUrl": "https://lh3.googleusercontent.com/a-/AOh14GhObdw1u3uxDno8PBnDrmkvcHccSnXmpjy2A7PQ=s64",
      "userId": "09157550983538090427"
     },
     "user_tz": -330
    },
    "id": "oD5iQBLSHiRa",
    "outputId": "a25b760b-7848-4d97-91f2-83c71d01915c"
   },
   "outputs": [
    {
     "name": "stdout",
     "output_type": "stream",
     "text": [
      "Epoch 1/200\n",
      "26/26 [==============================] - 0s 2ms/step - loss: 2.0735 - accuracy: 0.1777\n",
      "Epoch 2/200\n",
      "26/26 [==============================] - 0s 2ms/step - loss: 2.0044 - accuracy: 0.2505\n",
      "Epoch 3/200\n",
      "26/26 [==============================] - 0s 2ms/step - loss: 1.9491 - accuracy: 0.2762\n",
      "Epoch 4/200\n",
      "26/26 [==============================] - 0s 2ms/step - loss: 1.8359 - accuracy: 0.3329\n",
      "Epoch 5/200\n",
      "26/26 [==============================] - 0s 3ms/step - loss: 1.6197 - accuracy: 0.4055\n",
      "Epoch 6/200\n",
      "26/26 [==============================] - 0s 2ms/step - loss: 1.6005 - accuracy: 0.4144\n",
      "Epoch 7/200\n",
      "26/26 [==============================] - 0s 3ms/step - loss: 1.4741 - accuracy: 0.4990\n",
      "Epoch 8/200\n",
      "26/26 [==============================] - 0s 2ms/step - loss: 1.4349 - accuracy: 0.5547\n",
      "Epoch 9/200\n",
      "26/26 [==============================] - 0s 2ms/step - loss: 1.2742 - accuracy: 0.5703\n",
      "Epoch 10/200\n",
      "26/26 [==============================] - 0s 2ms/step - loss: 1.1732 - accuracy: 0.5964\n",
      "Epoch 11/200\n",
      "26/26 [==============================] - 0s 2ms/step - loss: 1.0626 - accuracy: 0.6259\n",
      "Epoch 12/200\n",
      "26/26 [==============================] - 0s 2ms/step - loss: 1.0030 - accuracy: 0.6122\n",
      "Epoch 13/200\n",
      "26/26 [==============================] - 0s 2ms/step - loss: 0.8469 - accuracy: 0.7541\n",
      "Epoch 14/200\n",
      "26/26 [==============================] - 0s 3ms/step - loss: 0.7031 - accuracy: 0.7885\n",
      "Epoch 15/200\n",
      "26/26 [==============================] - 0s 2ms/step - loss: 0.6401 - accuracy: 0.8345\n",
      "Epoch 16/200\n",
      "26/26 [==============================] - 0s 2ms/step - loss: 0.4556 - accuracy: 0.8924\n",
      "Epoch 17/200\n",
      "26/26 [==============================] - 0s 2ms/step - loss: 0.4593 - accuracy: 0.8357\n",
      "Epoch 18/200\n",
      "26/26 [==============================] - 0s 2ms/step - loss: 0.5491 - accuracy: 0.8575\n",
      "Epoch 19/200\n",
      "26/26 [==============================] - 0s 3ms/step - loss: 0.4802 - accuracy: 0.8912\n",
      "Epoch 20/200\n",
      "26/26 [==============================] - 0s 2ms/step - loss: 0.3314 - accuracy: 0.9221\n",
      "Epoch 21/200\n",
      "26/26 [==============================] - 0s 2ms/step - loss: 0.3497 - accuracy: 0.9023\n",
      "Epoch 22/200\n",
      "26/26 [==============================] - 0s 2ms/step - loss: 0.3005 - accuracy: 0.8985\n",
      "Epoch 23/200\n",
      "26/26 [==============================] - 0s 2ms/step - loss: 0.3169 - accuracy: 0.9212\n",
      "Epoch 24/200\n",
      "26/26 [==============================] - 0s 2ms/step - loss: 0.2426 - accuracy: 0.9322\n",
      "Epoch 25/200\n",
      "26/26 [==============================] - 0s 2ms/step - loss: 0.2818 - accuracy: 0.9181\n",
      "Epoch 26/200\n",
      "26/26 [==============================] - 0s 2ms/step - loss: 0.2341 - accuracy: 0.9318\n",
      "Epoch 27/200\n",
      "26/26 [==============================] - 0s 3ms/step - loss: 0.2560 - accuracy: 0.9259\n",
      "Epoch 28/200\n",
      "26/26 [==============================] - 0s 2ms/step - loss: 0.2819 - accuracy: 0.9442\n",
      "Epoch 29/200\n",
      "26/26 [==============================] - 0s 3ms/step - loss: 0.1618 - accuracy: 0.9571\n",
      "Epoch 30/200\n",
      "26/26 [==============================] - 0s 2ms/step - loss: 0.2310 - accuracy: 0.9316\n",
      "Epoch 31/200\n",
      "26/26 [==============================] - 0s 2ms/step - loss: 0.1173 - accuracy: 0.9885\n",
      "Epoch 32/200\n",
      "26/26 [==============================] - 0s 2ms/step - loss: 0.1732 - accuracy: 0.9696\n",
      "Epoch 33/200\n",
      "26/26 [==============================] - 0s 3ms/step - loss: 0.1600 - accuracy: 0.9552\n",
      "Epoch 34/200\n",
      "26/26 [==============================] - 0s 2ms/step - loss: 0.1770 - accuracy: 0.9598\n",
      "Epoch 35/200\n",
      "26/26 [==============================] - 0s 2ms/step - loss: 0.1416 - accuracy: 0.9460\n",
      "Epoch 36/200\n",
      "26/26 [==============================] - 0s 2ms/step - loss: 0.1063 - accuracy: 0.9931\n",
      "Epoch 37/200\n",
      "26/26 [==============================] - 0s 3ms/step - loss: 0.1161 - accuracy: 0.9734\n",
      "Epoch 38/200\n",
      "26/26 [==============================] - 0s 2ms/step - loss: 0.1733 - accuracy: 0.9334\n",
      "Epoch 39/200\n",
      "26/26 [==============================] - 0s 3ms/step - loss: 0.1393 - accuracy: 0.9582\n",
      "Epoch 40/200\n",
      "26/26 [==============================] - 0s 2ms/step - loss: 0.1385 - accuracy: 0.9663\n",
      "Epoch 41/200\n",
      "26/26 [==============================] - 0s 2ms/step - loss: 0.0785 - accuracy: 0.9988\n",
      "Epoch 42/200\n",
      "26/26 [==============================] - 0s 2ms/step - loss: 0.1729 - accuracy: 0.9208\n",
      "Epoch 43/200\n",
      "26/26 [==============================] - 0s 2ms/step - loss: 0.0801 - accuracy: 0.9788\n",
      "Epoch 44/200\n",
      "26/26 [==============================] - 0s 3ms/step - loss: 0.0916 - accuracy: 0.9884\n",
      "Epoch 45/200\n",
      "26/26 [==============================] - 0s 2ms/step - loss: 0.0933 - accuracy: 0.9833\n",
      "Epoch 46/200\n",
      "26/26 [==============================] - 0s 2ms/step - loss: 0.0767 - accuracy: 0.9921\n",
      "Epoch 47/200\n",
      "26/26 [==============================] - 0s 2ms/step - loss: 0.1192 - accuracy: 0.9496\n",
      "Epoch 48/200\n",
      "26/26 [==============================] - 0s 2ms/step - loss: 0.0529 - accuracy: 0.9921\n",
      "Epoch 49/200\n",
      "26/26 [==============================] - 0s 2ms/step - loss: 0.0639 - accuracy: 1.0000\n",
      "Epoch 50/200\n",
      "26/26 [==============================] - 0s 2ms/step - loss: 0.0892 - accuracy: 0.9805\n",
      "Epoch 51/200\n",
      "26/26 [==============================] - 0s 2ms/step - loss: 0.0463 - accuracy: 0.9954\n",
      "Epoch 52/200\n",
      "26/26 [==============================] - 0s 2ms/step - loss: 0.0556 - accuracy: 0.9946\n",
      "Epoch 53/200\n",
      "26/26 [==============================] - 0s 2ms/step - loss: 0.0389 - accuracy: 0.9941\n",
      "Epoch 54/200\n",
      "26/26 [==============================] - 0s 2ms/step - loss: 0.0863 - accuracy: 0.9978\n",
      "Epoch 55/200\n",
      "26/26 [==============================] - 0s 2ms/step - loss: 0.0689 - accuracy: 0.9719\n",
      "Epoch 56/200\n",
      "26/26 [==============================] - 0s 2ms/step - loss: 0.0902 - accuracy: 0.9712\n",
      "Epoch 57/200\n",
      "26/26 [==============================] - 0s 2ms/step - loss: 0.0384 - accuracy: 1.0000\n",
      "Epoch 58/200\n",
      "26/26 [==============================] - 0s 2ms/step - loss: 0.0333 - accuracy: 0.9966\n",
      "Epoch 59/200\n",
      "26/26 [==============================] - 0s 3ms/step - loss: 0.0453 - accuracy: 0.9953\n",
      "Epoch 60/200\n",
      "26/26 [==============================] - 0s 3ms/step - loss: 0.0807 - accuracy: 0.9769\n",
      "Epoch 61/200\n",
      "26/26 [==============================] - 0s 2ms/step - loss: 0.0351 - accuracy: 0.9921\n",
      "Epoch 62/200\n",
      "26/26 [==============================] - 0s 3ms/step - loss: 0.0412 - accuracy: 0.9844\n",
      "Epoch 63/200\n",
      "26/26 [==============================] - 0s 2ms/step - loss: 0.0241 - accuracy: 1.0000\n",
      "Epoch 64/200\n",
      "26/26 [==============================] - 0s 2ms/step - loss: 0.1152 - accuracy: 0.9516\n",
      "Epoch 65/200\n",
      "26/26 [==============================] - 0s 2ms/step - loss: 0.0529 - accuracy: 0.9921\n",
      "Epoch 66/200\n",
      "26/26 [==============================] - 0s 2ms/step - loss: 0.0430 - accuracy: 0.9978\n",
      "Epoch 67/200\n",
      "26/26 [==============================] - 0s 3ms/step - loss: 0.0592 - accuracy: 0.9785\n",
      "Epoch 68/200\n",
      "26/26 [==============================] - 0s 2ms/step - loss: 0.0851 - accuracy: 0.9725\n",
      "Epoch 69/200\n",
      "26/26 [==============================] - 0s 2ms/step - loss: 0.0304 - accuracy: 0.9957\n",
      "Epoch 70/200\n",
      "26/26 [==============================] - 0s 2ms/step - loss: 0.0668 - accuracy: 0.9851\n",
      "Epoch 71/200\n",
      "26/26 [==============================] - 0s 2ms/step - loss: 0.0390 - accuracy: 0.9921\n",
      "Epoch 72/200\n",
      "26/26 [==============================] - 0s 2ms/step - loss: 0.0367 - accuracy: 0.9935\n",
      "Epoch 73/200\n",
      "26/26 [==============================] - 0s 3ms/step - loss: 0.0328 - accuracy: 0.9952\n",
      "Epoch 74/200\n",
      "26/26 [==============================] - 0s 2ms/step - loss: 0.0362 - accuracy: 1.0000\n",
      "Epoch 75/200\n",
      "26/26 [==============================] - 0s 3ms/step - loss: 0.1228 - accuracy: 0.9472\n",
      "Epoch 76/200\n",
      "26/26 [==============================] - 0s 3ms/step - loss: 0.0483 - accuracy: 0.9941\n",
      "Epoch 77/200\n",
      "26/26 [==============================] - 0s 2ms/step - loss: 0.0352 - accuracy: 1.0000\n",
      "Epoch 78/200\n",
      "26/26 [==============================] - 0s 2ms/step - loss: 0.0271 - accuracy: 0.9994\n",
      "Epoch 79/200\n",
      "26/26 [==============================] - 0s 2ms/step - loss: 0.0788 - accuracy: 0.9727\n",
      "Epoch 80/200\n",
      "26/26 [==============================] - 0s 2ms/step - loss: 0.0262 - accuracy: 0.9994\n",
      "Epoch 81/200\n",
      "26/26 [==============================] - 0s 2ms/step - loss: 0.0258 - accuracy: 1.0000\n",
      "Epoch 82/200\n",
      "26/26 [==============================] - 0s 2ms/step - loss: 0.0523 - accuracy: 0.9814\n",
      "Epoch 83/200\n",
      "26/26 [==============================] - 0s 3ms/step - loss: 0.0314 - accuracy: 0.9947\n",
      "Epoch 84/200\n",
      "26/26 [==============================] - 0s 3ms/step - loss: 0.0353 - accuracy: 0.9972\n",
      "Epoch 85/200\n",
      "26/26 [==============================] - 0s 3ms/step - loss: 0.0094 - accuracy: 1.0000\n",
      "Epoch 86/200\n",
      "26/26 [==============================] - 0s 2ms/step - loss: 0.0337 - accuracy: 0.9877\n",
      "Epoch 87/200\n",
      "26/26 [==============================] - 0s 2ms/step - loss: 0.0208 - accuracy: 1.0000\n",
      "Epoch 88/200\n",
      "26/26 [==============================] - 0s 3ms/step - loss: 0.0167 - accuracy: 0.9957\n",
      "Epoch 89/200\n",
      "26/26 [==============================] - 0s 2ms/step - loss: 0.0095 - accuracy: 0.9994\n",
      "Epoch 90/200\n",
      "26/26 [==============================] - 0s 2ms/step - loss: 0.0366 - accuracy: 0.9893\n",
      "Epoch 91/200\n",
      "26/26 [==============================] - 0s 2ms/step - loss: 0.0190 - accuracy: 0.9962\n",
      "Epoch 92/200\n",
      "26/26 [==============================] - 0s 3ms/step - loss: 0.0166 - accuracy: 1.0000\n",
      "Epoch 93/200\n",
      "26/26 [==============================] - 0s 2ms/step - loss: 0.0518 - accuracy: 0.9712\n",
      "Epoch 94/200\n",
      "26/26 [==============================] - 0s 2ms/step - loss: 0.0258 - accuracy: 1.0000\n",
      "Epoch 95/200\n",
      "26/26 [==============================] - 0s 2ms/step - loss: 0.0147 - accuracy: 1.0000\n",
      "Epoch 96/200\n",
      "26/26 [==============================] - 0s 2ms/step - loss: 0.0795 - accuracy: 0.9432\n",
      "Epoch 97/200\n",
      "26/26 [==============================] - 0s 2ms/step - loss: 0.0137 - accuracy: 1.0000\n",
      "Epoch 98/200\n",
      "26/26 [==============================] - 0s 2ms/step - loss: 0.0330 - accuracy: 0.9855\n",
      "Epoch 99/200\n",
      "26/26 [==============================] - 0s 2ms/step - loss: 0.0602 - accuracy: 0.9751\n",
      "Epoch 100/200\n",
      "26/26 [==============================] - 0s 2ms/step - loss: 0.0784 - accuracy: 0.9760\n",
      "Epoch 101/200\n",
      "26/26 [==============================] - 0s 2ms/step - loss: 0.0308 - accuracy: 1.0000\n",
      "Epoch 102/200\n",
      "26/26 [==============================] - 0s 2ms/step - loss: 0.0098 - accuracy: 1.0000\n",
      "Epoch 103/200\n",
      "26/26 [==============================] - 0s 3ms/step - loss: 0.0280 - accuracy: 1.0000\n",
      "Epoch 104/200\n",
      "26/26 [==============================] - 0s 2ms/step - loss: 0.0098 - accuracy: 1.0000\n",
      "Epoch 105/200\n",
      "26/26 [==============================] - 0s 2ms/step - loss: 0.0520 - accuracy: 0.9893\n",
      "Epoch 106/200\n",
      "26/26 [==============================] - 0s 2ms/step - loss: 0.0230 - accuracy: 1.0000\n",
      "Epoch 107/200\n",
      "26/26 [==============================] - 0s 2ms/step - loss: 0.0101 - accuracy: 1.0000\n",
      "Epoch 108/200\n",
      "26/26 [==============================] - 0s 3ms/step - loss: 0.0187 - accuracy: 0.9957\n",
      "Epoch 109/200\n",
      "26/26 [==============================] - 0s 3ms/step - loss: 0.0234 - accuracy: 1.0000\n",
      "Epoch 110/200\n",
      "26/26 [==============================] - 0s 2ms/step - loss: 0.0891 - accuracy: 0.9706\n",
      "Epoch 111/200\n",
      "26/26 [==============================] - 0s 2ms/step - loss: 0.0049 - accuracy: 1.0000\n",
      "Epoch 112/200\n",
      "26/26 [==============================] - 0s 3ms/step - loss: 0.0274 - accuracy: 1.0000\n",
      "Epoch 113/200\n",
      "26/26 [==============================] - 0s 2ms/step - loss: 0.0123 - accuracy: 0.9947\n",
      "Epoch 114/200\n",
      "26/26 [==============================] - 0s 2ms/step - loss: 0.0113 - accuracy: 1.0000\n",
      "Epoch 115/200\n",
      "26/26 [==============================] - 0s 2ms/step - loss: 0.0132 - accuracy: 0.9994\n",
      "Epoch 116/200\n",
      "26/26 [==============================] - 0s 3ms/step - loss: 0.0163 - accuracy: 1.0000\n",
      "Epoch 117/200\n",
      "26/26 [==============================] - 0s 3ms/step - loss: 0.0803 - accuracy: 0.9712\n",
      "Epoch 118/200\n",
      "26/26 [==============================] - 0s 2ms/step - loss: 0.0131 - accuracy: 0.9978\n",
      "Epoch 119/200\n",
      "26/26 [==============================] - 0s 2ms/step - loss: 0.0055 - accuracy: 1.0000\n",
      "Epoch 120/200\n",
      "26/26 [==============================] - 0s 3ms/step - loss: 0.0393 - accuracy: 0.9847\n",
      "Epoch 121/200\n",
      "26/26 [==============================] - 0s 2ms/step - loss: 0.0155 - accuracy: 1.0000\n",
      "Epoch 122/200\n",
      "26/26 [==============================] - 0s 2ms/step - loss: 0.0190 - accuracy: 0.9985\n",
      "Epoch 123/200\n",
      "26/26 [==============================] - 0s 3ms/step - loss: 0.0133 - accuracy: 0.9952\n",
      "Epoch 124/200\n",
      "26/26 [==============================] - 0s 2ms/step - loss: 0.0126 - accuracy: 1.0000\n",
      "Epoch 125/200\n",
      "26/26 [==============================] - 0s 2ms/step - loss: 0.0106 - accuracy: 1.0000\n",
      "Epoch 126/200\n",
      "26/26 [==============================] - 0s 2ms/step - loss: 0.0182 - accuracy: 1.0000\n",
      "Epoch 127/200\n",
      "26/26 [==============================] - 0s 2ms/step - loss: 0.0130 - accuracy: 0.9985\n",
      "Epoch 128/200\n",
      "26/26 [==============================] - 0s 2ms/step - loss: 0.0063 - accuracy: 1.0000\n",
      "Epoch 129/200\n",
      "26/26 [==============================] - 0s 2ms/step - loss: 0.0117 - accuracy: 0.9970\n",
      "Epoch 130/200\n",
      "26/26 [==============================] - 0s 2ms/step - loss: 0.0118 - accuracy: 0.9957\n",
      "Epoch 131/200\n",
      "26/26 [==============================] - 0s 3ms/step - loss: 0.0215 - accuracy: 0.9929\n",
      "Epoch 132/200\n",
      "26/26 [==============================] - 0s 2ms/step - loss: 0.0291 - accuracy: 1.0000\n",
      "Epoch 133/200\n",
      "26/26 [==============================] - 0s 2ms/step - loss: 0.0354 - accuracy: 0.9847\n",
      "Epoch 134/200\n",
      "26/26 [==============================] - 0s 2ms/step - loss: 0.0192 - accuracy: 1.0000\n",
      "Epoch 135/200\n",
      "26/26 [==============================] - 0s 3ms/step - loss: 0.0160 - accuracy: 0.9957\n",
      "Epoch 136/200\n",
      "26/26 [==============================] - 0s 2ms/step - loss: 0.0098 - accuracy: 1.0000\n",
      "Epoch 137/200\n",
      "26/26 [==============================] - 0s 2ms/step - loss: 0.0277 - accuracy: 0.9847\n",
      "Epoch 138/200\n",
      "26/26 [==============================] - 0s 2ms/step - loss: 0.0192 - accuracy: 1.0000\n",
      "Epoch 139/200\n",
      "26/26 [==============================] - 0s 2ms/step - loss: 0.0211 - accuracy: 1.0000\n",
      "Epoch 140/200\n",
      "26/26 [==============================] - 0s 3ms/step - loss: 0.0146 - accuracy: 0.9970\n",
      "Epoch 141/200\n",
      "26/26 [==============================] - 0s 2ms/step - loss: 0.0086 - accuracy: 1.0000\n",
      "Epoch 142/200\n",
      "26/26 [==============================] - 0s 3ms/step - loss: 0.0761 - accuracy: 0.9534\n",
      "Epoch 143/200\n",
      "26/26 [==============================] - 0s 3ms/step - loss: 0.0050 - accuracy: 1.0000\n",
      "Epoch 144/200\n",
      "26/26 [==============================] - 0s 3ms/step - loss: 0.0109 - accuracy: 1.0000\n",
      "Epoch 145/200\n",
      "26/26 [==============================] - 0s 3ms/step - loss: 0.0412 - accuracy: 0.9970\n",
      "Epoch 146/200\n",
      "26/26 [==============================] - 0s 2ms/step - loss: 0.0160 - accuracy: 0.9847\n",
      "Epoch 147/200\n",
      "26/26 [==============================] - 0s 2ms/step - loss: 0.0066 - accuracy: 1.0000\n",
      "Epoch 148/200\n",
      "26/26 [==============================] - 0s 2ms/step - loss: 0.0190 - accuracy: 0.9957\n",
      "Epoch 149/200\n",
      "26/26 [==============================] - 0s 2ms/step - loss: 0.0144 - accuracy: 1.0000\n",
      "Epoch 150/200\n",
      "26/26 [==============================] - 0s 2ms/step - loss: 0.0473 - accuracy: 0.9947\n",
      "Epoch 151/200\n",
      "26/26 [==============================] - 0s 3ms/step - loss: 0.0057 - accuracy: 1.0000\n",
      "Epoch 152/200\n",
      "26/26 [==============================] - 0s 2ms/step - loss: 0.0126 - accuracy: 1.0000\n",
      "Epoch 153/200\n",
      "26/26 [==============================] - 0s 3ms/step - loss: 0.0096 - accuracy: 1.0000\n",
      "Epoch 154/200\n",
      "26/26 [==============================] - 0s 3ms/step - loss: 0.0204 - accuracy: 0.9929\n",
      "Epoch 155/200\n",
      "26/26 [==============================] - 0s 3ms/step - loss: 0.0039 - accuracy: 1.0000\n",
      "Epoch 156/200\n",
      "26/26 [==============================] - 0s 2ms/step - loss: 0.0468 - accuracy: 0.9866\n",
      "Epoch 157/200\n",
      "26/26 [==============================] - 0s 3ms/step - loss: 0.0572 - accuracy: 0.9733\n",
      "Epoch 158/200\n",
      "26/26 [==============================] - 0s 3ms/step - loss: 0.0073 - accuracy: 1.0000\n",
      "Epoch 159/200\n",
      "26/26 [==============================] - 0s 3ms/step - loss: 0.0167 - accuracy: 0.9973\n",
      "Epoch 160/200\n",
      "26/26 [==============================] - 0s 3ms/step - loss: 0.0121 - accuracy: 1.0000\n",
      "Epoch 161/200\n",
      "26/26 [==============================] - 0s 3ms/step - loss: 0.0039 - accuracy: 1.0000\n",
      "Epoch 162/200\n",
      "26/26 [==============================] - 0s 3ms/step - loss: 0.0062 - accuracy: 0.9991\n",
      "Epoch 163/200\n",
      "26/26 [==============================] - 0s 2ms/step - loss: 0.0139 - accuracy: 1.0000\n",
      "Epoch 164/200\n",
      "26/26 [==============================] - 0s 3ms/step - loss: 0.0150 - accuracy: 1.0000\n",
      "Epoch 165/200\n",
      "26/26 [==============================] - 0s 2ms/step - loss: 0.0112 - accuracy: 1.0000\n",
      "Epoch 166/200\n",
      "26/26 [==============================] - 0s 2ms/step - loss: 0.0113 - accuracy: 1.0000\n",
      "Epoch 167/200\n",
      "26/26 [==============================] - 0s 3ms/step - loss: 0.0051 - accuracy: 1.0000\n",
      "Epoch 168/200\n",
      "26/26 [==============================] - 0s 3ms/step - loss: 0.0135 - accuracy: 1.0000\n",
      "Epoch 169/200\n",
      "26/26 [==============================] - 0s 3ms/step - loss: 0.0101 - accuracy: 1.0000\n",
      "Epoch 170/200\n",
      "26/26 [==============================] - 0s 3ms/step - loss: 0.0061 - accuracy: 1.0000\n",
      "Epoch 171/200\n",
      "26/26 [==============================] - 0s 3ms/step - loss: 0.0118 - accuracy: 1.0000\n",
      "Epoch 172/200\n",
      "26/26 [==============================] - 0s 2ms/step - loss: 0.0145 - accuracy: 1.0000\n",
      "Epoch 173/200\n",
      "26/26 [==============================] - 0s 3ms/step - loss: 0.0044 - accuracy: 1.0000\n",
      "Epoch 174/200\n",
      "26/26 [==============================] - 0s 3ms/step - loss: 0.0071 - accuracy: 1.0000\n",
      "Epoch 175/200\n",
      "26/26 [==============================] - 0s 2ms/step - loss: 0.0110 - accuracy: 1.0000\n",
      "Epoch 176/200\n",
      "26/26 [==============================] - 0s 3ms/step - loss: 0.0311 - accuracy: 0.9983\n",
      "Epoch 177/200\n",
      "26/26 [==============================] - 0s 3ms/step - loss: 0.0116 - accuracy: 1.0000\n",
      "Epoch 178/200\n",
      "26/26 [==============================] - 0s 3ms/step - loss: 0.0020 - accuracy: 1.0000\n",
      "Epoch 179/200\n",
      "26/26 [==============================] - 0s 3ms/step - loss: 0.0208 - accuracy: 1.0000\n",
      "Epoch 180/200\n",
      "26/26 [==============================] - 0s 3ms/step - loss: 0.0059 - accuracy: 1.0000\n",
      "Epoch 181/200\n",
      "26/26 [==============================] - 0s 3ms/step - loss: 0.0119 - accuracy: 1.0000\n",
      "Epoch 182/200\n",
      "26/26 [==============================] - 0s 3ms/step - loss: 0.0219 - accuracy: 1.0000\n",
      "Epoch 183/200\n",
      "26/26 [==============================] - 0s 3ms/step - loss: 0.0186 - accuracy: 1.0000\n",
      "Epoch 184/200\n",
      "26/26 [==============================] - 0s 3ms/step - loss: 0.0060 - accuracy: 1.0000\n",
      "Epoch 185/200\n",
      "26/26 [==============================] - 0s 3ms/step - loss: 0.0032 - accuracy: 1.0000\n",
      "Epoch 186/200\n",
      "26/26 [==============================] - 0s 3ms/step - loss: 0.0076 - accuracy: 1.0000\n",
      "Epoch 187/200\n",
      "26/26 [==============================] - 0s 3ms/step - loss: 0.0262 - accuracy: 0.9887\n",
      "Epoch 188/200\n",
      "26/26 [==============================] - 0s 2ms/step - loss: 0.0021 - accuracy: 1.0000\n",
      "Epoch 189/200\n",
      "26/26 [==============================] - 0s 3ms/step - loss: 0.0514 - accuracy: 0.9712\n",
      "Epoch 190/200\n",
      "26/26 [==============================] - 0s 3ms/step - loss: 0.0101 - accuracy: 1.0000\n",
      "Epoch 191/200\n",
      "26/26 [==============================] - 0s 3ms/step - loss: 0.0106 - accuracy: 0.9974\n",
      "Epoch 192/200\n",
      "26/26 [==============================] - 0s 3ms/step - loss: 0.0082 - accuracy: 1.0000\n",
      "Epoch 193/200\n",
      "26/26 [==============================] - 0s 2ms/step - loss: 0.0186 - accuracy: 1.0000\n",
      "Epoch 194/200\n",
      "26/26 [==============================] - 0s 3ms/step - loss: 0.0103 - accuracy: 1.0000\n",
      "Epoch 195/200\n",
      "26/26 [==============================] - 0s 3ms/step - loss: 0.0132 - accuracy: 1.0000\n",
      "Epoch 196/200\n",
      "26/26 [==============================] - 0s 3ms/step - loss: 0.0060 - accuracy: 1.0000\n",
      "Epoch 197/200\n",
      "26/26 [==============================] - 0s 2ms/step - loss: 0.0013 - accuracy: 1.0000\n",
      "Epoch 198/200\n",
      "26/26 [==============================] - 0s 3ms/step - loss: 0.0058 - accuracy: 1.0000\n",
      "Epoch 199/200\n",
      "26/26 [==============================] - 0s 3ms/step - loss: 0.0068 - accuracy: 1.0000\n",
      "Epoch 200/200\n",
      "26/26 [==============================] - 0s 3ms/step - loss: 0.0199 - accuracy: 1.0000\n",
      "model created\n"
     ]
    }
   ],
   "source": [
    "# Create model - 3 layers. First layer 128 neurons, second layer 64 neurons and 3rd output layer contains number of neurons\n",
    "# equal to number of intents to predict output intent with softmax\n",
    "model = Sequential()\n",
    "model.add(Dense(128, input_shape=(len(train_x[0]),), activation='relu'))\n",
    "model.add(Dropout(0.5))\n",
    "model.add(Dense(64, activation='relu'))\n",
    "model.add(Dropout(0.5))\n",
    "model.add(Dense(len(train_y[0]), activation='softmax'))\n",
    "\n",
    "# Compile model. Stochastic gradient descent with Nesterov accelerated gradient gives good results for this model\n",
    "sgd = SGD(lr=0.01, decay=1e-6, momentum=0.9, nesterov=True)\n",
    "model.compile(loss='categorical_crossentropy', optimizer=sgd, metrics=['accuracy'])\n",
    "\n",
    "#fitting and saving the model \n",
    "hist = model.fit(np.array(train_x), np.array(train_y), epochs=200, batch_size=5, verbose=1)\n",
    "model.save('gl_chatbot_model.h5', hist)\n",
    "\n",
    "print(\"model created\")"
   ]
  },
  {
   "cell_type": "markdown",
   "metadata": {
    "id": "yqbP08kqILdT"
   },
   "source": [
    "We see that we have got a very good accuracy on the training data of 100%. Let us predict using test data now.\n",
    "\n",
    "1. We will create a new file test_chatbot.py\n",
    "2. Load the ‘words.pkl’ and ‘classes.pkl’ pickle files which we have created when we trained our model"
   ]
  },
  {
   "cell_type": "code",
   "execution_count": 302,
   "metadata": {
    "executionInfo": {
     "elapsed": 438641,
     "status": "ok",
     "timestamp": 1620582378843,
     "user": {
      "displayName": "Soumita Chowdhury",
      "photoUrl": "https://lh3.googleusercontent.com/a-/AOh14GhObdw1u3uxDno8PBnDrmkvcHccSnXmpjy2A7PQ=s64",
      "userId": "09157550983538090427"
     },
     "user_tz": -330
    },
    "id": "muxBlzDrIiTM"
   },
   "outputs": [],
   "source": [
    "import nltk\n",
    "from nltk.stem import WordNetLemmatizer\n",
    "lemmatizer = WordNetLemmatizer()\n",
    "import pickle\n",
    "import numpy as np\n",
    "\n",
    "from keras.models import load_model\n",
    "model = load_model('gl_chatbot_model.h5')\n",
    "import json\n",
    "import random\n",
    "intents = json.loads(open('/content/gdrive/MyDrive/Colab Notebooks/NLP/GL Bot.json').read())\n",
    "words = pickle.load(open('words.pkl','rb'))\n",
    "classes = pickle.load(open('classes.pkl','rb'))"
   ]
  },
  {
   "cell_type": "code",
   "execution_count": 309,
   "metadata": {
    "executionInfo": {
     "elapsed": 2082,
     "status": "ok",
     "timestamp": 1620582929393,
     "user": {
      "displayName": "Soumita Chowdhury",
      "photoUrl": "https://lh3.googleusercontent.com/a-/AOh14GhObdw1u3uxDno8PBnDrmkvcHccSnXmpjy2A7PQ=s64",
      "userId": "09157550983538090427"
     },
     "user_tz": -330
    },
    "id": "-ABIn9KfQ7kD"
   },
   "outputs": [],
   "source": [
    "#Let us now perform some predictions\n",
    "def clean_up_sentence(sentence):\n",
    "    # tokenize the pattern - split words into array\n",
    "    sentence_words = nltk.word_tokenize(sentence)\n",
    "    # stem each word - create short form for word\n",
    "    sentence_words = [lemmatizer.lemmatize(word.lower()) for word in sentence_words]\n",
    "    return sentence_words\n",
    "# return bag of words array: 0 or 1 for each word in the bag that exists in the sentence\n",
    "\n",
    "def bow(sentence, words, show_details=True):\n",
    "    # tokenize the pattern\n",
    "    sentence_words = clean_up_sentence(sentence)\n",
    "    # bag of words - matrix of N words, vocabulary matrix\n",
    "    bag = [0]*len(words) \n",
    "    for s in sentence_words:\n",
    "        for i,w in enumerate(words):\n",
    "            if w == s: \n",
    "                # assign 1 if current word is in the vocabulary position\n",
    "                bag[i] = 1\n",
    "                if show_details:\n",
    "                    print (\"found in bag: %s\" % w)\n",
    "    return(np.array(bag))\n",
    "\n",
    "def predict_class(sentence, model):\n",
    "    # filter out predictions below a threshold\n",
    "    p = bow(sentence, words,show_details=False)\n",
    "    res = model.predict(np.array([p]))[0]\n",
    "    ERROR_THRESHOLD = 0.25\n",
    "    results = [[i,r] for i,r in enumerate(res) if r>ERROR_THRESHOLD]\n",
    "    # sort by strength of probability\n",
    "    results.sort(key=lambda x: x[1], reverse=True)\n",
    "    return_list = []\n",
    "    for r in results:\n",
    "        return_list.append({\"intent\": classes[r[0]], \"probability\": str(r[1])})\n",
    "    return return_list"
   ]
  },
  {
   "cell_type": "code",
   "execution_count": 310,
   "metadata": {
    "executionInfo": {
     "elapsed": 1039,
     "status": "ok",
     "timestamp": 1620582939360,
     "user": {
      "displayName": "Soumita Chowdhury",
      "photoUrl": "https://lh3.googleusercontent.com/a-/AOh14GhObdw1u3uxDno8PBnDrmkvcHccSnXmpjy2A7PQ=s64",
      "userId": "09157550983538090427"
     },
     "user_tz": -330
    },
    "id": "TYxgMejHRSyZ"
   },
   "outputs": [],
   "source": [
    "def getResponse(ints, intents_json):\n",
    "    tag = ints[0]['intent']\n",
    "    list_of_intents = intents_json['intents']\n",
    "    for i in list_of_intents:\n",
    "        if(i['tag']== tag):\n",
    "            result = random.choice(i['responses'])\n",
    "            break\n",
    "    return result\n",
    "\n",
    "def chatbot_response(text):\n",
    "    ints = predict_class(text, model)\n",
    "    res = getResponse(ints, intents)\n",
    "    return res"
   ]
  },
  {
   "cell_type": "markdown",
   "metadata": {
    "id": "vmBDQFLeRWBj"
   },
   "source": [
    "Creating a GUI for the bot\n"
   ]
  },
  {
   "cell_type": "code",
   "execution_count": 311,
   "metadata": {
    "colab": {
     "base_uri": "https://localhost:8080/",
     "height": 363
    },
    "executionInfo": {
     "elapsed": 1317,
     "status": "error",
     "timestamp": 1620582963278,
     "user": {
      "displayName": "Soumita Chowdhury",
      "photoUrl": "https://lh3.googleusercontent.com/a-/AOh14GhObdw1u3uxDno8PBnDrmkvcHccSnXmpjy2A7PQ=s64",
      "userId": "09157550983538090427"
     },
     "user_tz": -330
    },
    "id": "IY2jGFkXRYIj",
    "outputId": "5a3617a3-eed4-4a90-b9ad-68762f169129"
   },
   "outputs": [
    {
     "ename": "TclError",
     "evalue": "ignored",
     "output_type": "error",
     "traceback": [
      "\u001b[0;31m---------------------------------------------------------------------------\u001b[0m",
      "\u001b[0;31mTclError\u001b[0m                                  Traceback (most recent call last)",
      "\u001b[0;32m<ipython-input-311-896b278da15a>\u001b[0m in \u001b[0;36m<module>\u001b[0;34m()\u001b[0m\n\u001b[1;32m     19\u001b[0m         \u001b[0mChatLog\u001b[0m\u001b[0;34m.\u001b[0m\u001b[0myview\u001b[0m\u001b[0;34m(\u001b[0m\u001b[0mEND\u001b[0m\u001b[0;34m)\u001b[0m\u001b[0;34m\u001b[0m\u001b[0;34m\u001b[0m\u001b[0m\n\u001b[1;32m     20\u001b[0m \u001b[0;34m\u001b[0m\u001b[0m\n\u001b[0;32m---> 21\u001b[0;31m \u001b[0mbase\u001b[0m \u001b[0;34m=\u001b[0m \u001b[0mTk\u001b[0m\u001b[0;34m(\u001b[0m\u001b[0;34m)\u001b[0m\u001b[0;34m\u001b[0m\u001b[0;34m\u001b[0m\u001b[0m\n\u001b[0m\u001b[1;32m     22\u001b[0m \u001b[0mbase\u001b[0m\u001b[0;34m.\u001b[0m\u001b[0mtitle\u001b[0m\u001b[0;34m(\u001b[0m\u001b[0;34m\"Hello\"\u001b[0m\u001b[0;34m)\u001b[0m\u001b[0;34m\u001b[0m\u001b[0;34m\u001b[0m\u001b[0m\n\u001b[1;32m     23\u001b[0m \u001b[0mbase\u001b[0m\u001b[0;34m.\u001b[0m\u001b[0mgeometry\u001b[0m\u001b[0;34m(\u001b[0m\u001b[0;34m\"400x500\"\u001b[0m\u001b[0;34m)\u001b[0m\u001b[0;34m\u001b[0m\u001b[0;34m\u001b[0m\u001b[0m\n",
      "\u001b[0;32m/usr/lib/python3.7/tkinter/__init__.py\u001b[0m in \u001b[0;36m__init__\u001b[0;34m(self, screenName, baseName, className, useTk, sync, use)\u001b[0m\n\u001b[1;32m   2021\u001b[0m                 \u001b[0mbaseName\u001b[0m \u001b[0;34m=\u001b[0m \u001b[0mbaseName\u001b[0m \u001b[0;34m+\u001b[0m \u001b[0mext\u001b[0m\u001b[0;34m\u001b[0m\u001b[0;34m\u001b[0m\u001b[0m\n\u001b[1;32m   2022\u001b[0m         \u001b[0minteractive\u001b[0m \u001b[0;34m=\u001b[0m \u001b[0;36m0\u001b[0m\u001b[0;34m\u001b[0m\u001b[0;34m\u001b[0m\u001b[0m\n\u001b[0;32m-> 2023\u001b[0;31m         \u001b[0mself\u001b[0m\u001b[0;34m.\u001b[0m\u001b[0mtk\u001b[0m \u001b[0;34m=\u001b[0m \u001b[0m_tkinter\u001b[0m\u001b[0;34m.\u001b[0m\u001b[0mcreate\u001b[0m\u001b[0;34m(\u001b[0m\u001b[0mscreenName\u001b[0m\u001b[0;34m,\u001b[0m \u001b[0mbaseName\u001b[0m\u001b[0;34m,\u001b[0m \u001b[0mclassName\u001b[0m\u001b[0;34m,\u001b[0m \u001b[0minteractive\u001b[0m\u001b[0;34m,\u001b[0m \u001b[0mwantobjects\u001b[0m\u001b[0;34m,\u001b[0m \u001b[0museTk\u001b[0m\u001b[0;34m,\u001b[0m \u001b[0msync\u001b[0m\u001b[0;34m,\u001b[0m \u001b[0muse\u001b[0m\u001b[0;34m)\u001b[0m\u001b[0;34m\u001b[0m\u001b[0;34m\u001b[0m\u001b[0m\n\u001b[0m\u001b[1;32m   2024\u001b[0m         \u001b[0;32mif\u001b[0m \u001b[0museTk\u001b[0m\u001b[0;34m:\u001b[0m\u001b[0;34m\u001b[0m\u001b[0;34m\u001b[0m\u001b[0m\n\u001b[1;32m   2025\u001b[0m             \u001b[0mself\u001b[0m\u001b[0;34m.\u001b[0m\u001b[0m_loadtk\u001b[0m\u001b[0;34m(\u001b[0m\u001b[0;34m)\u001b[0m\u001b[0;34m\u001b[0m\u001b[0;34m\u001b[0m\u001b[0m\n",
      "\u001b[0;31mTclError\u001b[0m: no display name and no $DISPLAY environment variable"
     ]
    }
   ],
   "source": [
    "#Creating GUI with tkinter\n",
    "import tkinter\n",
    "from tkinter import *\n",
    "\n",
    "\n",
    "def send():\n",
    "    msg = EntryBox.get(\"1.0\",'end-1c').strip()\n",
    "    EntryBox.delete(\"0.0\",END)\n",
    "\n",
    "    if msg != '':\n",
    "        ChatLog.config(state=NORMAL)\n",
    "        ChatLog.insert(END, \"You: \" + msg + '\\n\\n')\n",
    "        ChatLog.config(foreground=\"#442265\", font=(\"Verdana\", 12 ))\n",
    "\n",
    "        res = chatbot_response(msg)\n",
    "        ChatLog.insert(END, \"Bot: \" + res + '\\n\\n')\n",
    "\n",
    "        ChatLog.config(state=DISABLED)\n",
    "        ChatLog.yview(END)\n",
    "\n",
    "base = Tk()\n",
    "base.title(\"Hello\")\n",
    "base.geometry(\"400x500\")\n",
    "base.resizable(width=FALSE, height=FALSE)\n",
    "\n",
    "#Create Chat window\n",
    "ChatLog = Text(base, bd=0, bg=\"white\", height=\"8\", width=\"50\", font=\"Arial\",)\n",
    "\n",
    "ChatLog.config(state=DISABLED)\n",
    "\n",
    "#Bind scrollbar to Chat window\n",
    "scrollbar = Scrollbar(base, command=ChatLog.yview, cursor=\"heart\")\n",
    "ChatLog['yscrollcommand'] = scrollbar.set\n",
    "\n",
    "#Create Button to send message\n",
    "SendButton = Button(base, font=(\"Verdana\",12,'bold'), text=\"Send\", width=\"12\", height=5,\n",
    "                    bd=0, bg=\"#32de97\", activebackground=\"#3c9d9b\",fg='#ffffff',\n",
    "                    command= send )\n",
    "\n",
    "#Create the box to enter message\n",
    "EntryBox = Text(base, bd=0, bg=\"white\",width=\"29\", height=\"5\", font=\"Arial\")\n",
    "#EntryBox.bind(\"<Return>\", send)\n",
    "\n",
    "\n",
    "#Place all components on the screen\n",
    "scrollbar.place(x=376,y=6, height=386)\n",
    "ChatLog.place(x=6,y=6, height=386, width=370)\n",
    "EntryBox.place(x=128, y=401, height=90, width=265)\n",
    "SendButton.place(x=6, y=401, height=90)\n",
    "\n",
    "base.mainloop()"
   ]
  },
  {
   "cell_type": "code",
   "execution_count": 312,
   "metadata": {
    "colab": {
     "base_uri": "https://localhost:8080/",
     "height": 132
    },
    "executionInfo": {
     "elapsed": 1063,
     "status": "error",
     "timestamp": 1620583051632,
     "user": {
      "displayName": "Soumita Chowdhury",
      "photoUrl": "https://lh3.googleusercontent.com/a-/AOh14GhObdw1u3uxDno8PBnDrmkvcHccSnXmpjy2A7PQ=s64",
      "userId": "09157550983538090427"
     },
     "user_tz": -330
    },
    "id": "ozx7eRlqRgeM",
    "outputId": "3f4e2add-c55f-4e77-80a2-4b60cc17f96d"
   },
   "outputs": [
    {
     "ename": "SyntaxError",
     "evalue": "ignored",
     "output_type": "error",
     "traceback": [
      "\u001b[0;36m  File \u001b[0;32m\"<ipython-input-312-ab9c6f98d0e9>\"\u001b[0;36m, line \u001b[0;32m2\u001b[0m\n\u001b[0;31m    python test_chatbot.py\u001b[0m\n\u001b[0m                      ^\u001b[0m\n\u001b[0;31mSyntaxError\u001b[0m\u001b[0;31m:\u001b[0m invalid syntax\n"
     ]
    }
   ],
   "source": [
    "#to run the chatbot we run the test_chatbot.py file\n",
    "python test_chatbot.py"
   ]
  }
 ],
 "metadata": {
  "accelerator": "GPU",
  "colab": {
   "authorship_tag": "ABX9TyMAJQVe7940c/fq1HCFySQf",
   "collapsed_sections": [],
   "name": "Project1.ipynb",
   "provenance": []
  },
  "kernelspec": {
   "display_name": "Python 3",
   "name": "python3"
  },
  "language_info": {
   "name": "python"
  }
 },
 "nbformat": 4,
 "nbformat_minor": 0
}
